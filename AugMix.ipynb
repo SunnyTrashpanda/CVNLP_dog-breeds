{
 "cells": [
  {
   "cell_type": "code",
   "execution_count": 1,
   "id": "5d777de4",
   "metadata": {},
   "outputs": [],
   "source": [
    "from pathlib import Path\n",
    "\n",
    "import matplotlib.pyplot as plt\n",
    "import numpy as np\n",
    "import pandas as pd\n",
    "import torch\n",
    "import torchvision.transforms as transforms\n",
    "from PIL import Image"
   ]
  },
  {
   "cell_type": "code",
   "execution_count": 2,
   "id": "67f7085b",
   "metadata": {},
   "outputs": [
    {
     "data": {
      "text/plain": "      DogId           Breed                                     Image  \\\n0      6673  SIBERIAN HUSKY  4d924d95-de4c-43c0-a586-9fb19cadf905.jpg   \n1      6673  SIBERIAN HUSKY  851cc9ee-fc4d-430c-99f6-6425b8bbbe6b.jpg   \n2      6673  SIBERIAN HUSKY  7d055dfa-dc6f-4f2b-a7be-dc8bc666836f.jpg   \n3      6673  SIBERIAN HUSKY  f1f55f0a-c3d6-442b-b686-71b83b510dc5.jpg   \n4      6671  SIBERIAN HUSKY  a2e49a61-7c6a-46f0-a80e-9f32e596c1df.jpg   \n...     ...             ...                                       ...   \n4145  38513   BORDER COLLIE  e3957a7c-9289-4441-bdbd-d2289bef745d.jpg   \n4146  38513   BORDER COLLIE  48afd0ab-baf2-4ee8-9584-9563cec529e7.jpg   \n4147  38513   BORDER COLLIE  8f8c4ea0-7426-4188-bb6c-94fa1ecb1e33.jpg   \n4148  38513   BORDER COLLIE  cce5499f-eb04-4d8c-8d3f-c9c9bee16c5c.jpg   \n4149  38513   BORDER COLLIE  da98f522-c6c3-4aa2-aa65-c82699780851.jpg   \n\n      ImageNumber  \n0               1  \n1               2  \n2               3  \n3               4  \n4               1  \n...           ...  \n4145            5  \n4146            6  \n4147            7  \n4148            8  \n4149            9  \n\n[4150 rows x 4 columns]",
      "text/html": "<div>\n<style scoped>\n    .dataframe tbody tr th:only-of-type {\n        vertical-align: middle;\n    }\n\n    .dataframe tbody tr th {\n        vertical-align: top;\n    }\n\n    .dataframe thead th {\n        text-align: right;\n    }\n</style>\n<table border=\"1\" class=\"dataframe\">\n  <thead>\n    <tr style=\"text-align: right;\">\n      <th></th>\n      <th>DogId</th>\n      <th>Breed</th>\n      <th>Image</th>\n      <th>ImageNumber</th>\n    </tr>\n  </thead>\n  <tbody>\n    <tr>\n      <th>0</th>\n      <td>6673</td>\n      <td>SIBERIAN HUSKY</td>\n      <td>4d924d95-de4c-43c0-a586-9fb19cadf905.jpg</td>\n      <td>1</td>\n    </tr>\n    <tr>\n      <th>1</th>\n      <td>6673</td>\n      <td>SIBERIAN HUSKY</td>\n      <td>851cc9ee-fc4d-430c-99f6-6425b8bbbe6b.jpg</td>\n      <td>2</td>\n    </tr>\n    <tr>\n      <th>2</th>\n      <td>6673</td>\n      <td>SIBERIAN HUSKY</td>\n      <td>7d055dfa-dc6f-4f2b-a7be-dc8bc666836f.jpg</td>\n      <td>3</td>\n    </tr>\n    <tr>\n      <th>3</th>\n      <td>6673</td>\n      <td>SIBERIAN HUSKY</td>\n      <td>f1f55f0a-c3d6-442b-b686-71b83b510dc5.jpg</td>\n      <td>4</td>\n    </tr>\n    <tr>\n      <th>4</th>\n      <td>6671</td>\n      <td>SIBERIAN HUSKY</td>\n      <td>a2e49a61-7c6a-46f0-a80e-9f32e596c1df.jpg</td>\n      <td>1</td>\n    </tr>\n    <tr>\n      <th>...</th>\n      <td>...</td>\n      <td>...</td>\n      <td>...</td>\n      <td>...</td>\n    </tr>\n    <tr>\n      <th>4145</th>\n      <td>38513</td>\n      <td>BORDER COLLIE</td>\n      <td>e3957a7c-9289-4441-bdbd-d2289bef745d.jpg</td>\n      <td>5</td>\n    </tr>\n    <tr>\n      <th>4146</th>\n      <td>38513</td>\n      <td>BORDER COLLIE</td>\n      <td>48afd0ab-baf2-4ee8-9584-9563cec529e7.jpg</td>\n      <td>6</td>\n    </tr>\n    <tr>\n      <th>4147</th>\n      <td>38513</td>\n      <td>BORDER COLLIE</td>\n      <td>8f8c4ea0-7426-4188-bb6c-94fa1ecb1e33.jpg</td>\n      <td>7</td>\n    </tr>\n    <tr>\n      <th>4148</th>\n      <td>38513</td>\n      <td>BORDER COLLIE</td>\n      <td>cce5499f-eb04-4d8c-8d3f-c9c9bee16c5c.jpg</td>\n      <td>8</td>\n    </tr>\n    <tr>\n      <th>4149</th>\n      <td>38513</td>\n      <td>BORDER COLLIE</td>\n      <td>da98f522-c6c3-4aa2-aa65-c82699780851.jpg</td>\n      <td>9</td>\n    </tr>\n  </tbody>\n</table>\n<p>4150 rows × 4 columns</p>\n</div>"
     },
     "execution_count": 2,
     "metadata": {},
     "output_type": "execute_result"
    }
   ],
   "source": [
    "#read the csv\n",
    "#column Breed shows the y with the image name\n",
    "data_csv = pd.read_csv('dataset_CV.csv')\n",
    "data_csv"
   ]
  },
  {
   "cell_type": "code",
   "execution_count": 3,
   "id": "b4fc78bf",
   "metadata": {
    "scrolled": true
   },
   "outputs": [],
   "source": [
    "# read the images\n",
    "# some images are broken, so we just pass them for now\n",
    "location = r\"dog_breed_photos\"\n",
    "df = []\n",
    "for image in data_csv['Image']:\n",
    "    try:\n",
    "        df.append(Image.open(Path(location) / image))\n",
    "    except IOError:\n",
    "        print(image + \" does not exist\")\n",
    "        pass"
   ]
  },
  {
   "cell_type": "code",
   "execution_count": 4,
   "id": "d5d469e1",
   "metadata": {},
   "outputs": [],
   "source": [
    "# use augmix\n",
    "#shows 4 images as example\n",
    "augmenter = transforms.AugMix()\n",
    "augmented_images = [augmenter(df[42]) for _ in range(4)]\n",
    "#probleme beim anzeigen"
   ]
  },
  {
   "cell_type": "code",
   "execution_count": 5,
   "id": "a8afb671",
   "metadata": {},
   "outputs": [],
   "source": [
    "plt.rcParams[\"savefig.bbox\"] = 'tight'\n",
    "orig_img = df[42]\n",
    "# if you change the seed, make sure that the randomly-applied transforms\n",
    "# properly show that the image can be both transformed and *not* transformed!\n",
    "torch.manual_seed(0)\n",
    "\n",
    "\n",
    "def plot(imgs, with_orig=True, row_title=None, **imshow_kwargs):\n",
    "    if not isinstance(imgs[0], list):\n",
    "        # Make a 2d grid even if there's just 1 row\n",
    "        imgs = [imgs]\n",
    "\n",
    "    num_rows = len(imgs)\n",
    "    num_cols = len(imgs[0]) + with_orig\n",
    "    fig, axs = plt.subplots(nrows=num_rows, ncols=num_cols, squeeze=False)\n",
    "    for row_idx, row in enumerate(imgs):\n",
    "        row = [orig_img] + row if with_orig else row\n",
    "        for col_idx, img in enumerate(row):\n",
    "            ax = axs[row_idx, col_idx]\n",
    "            ax.imshow(np.asarray(img), **imshow_kwargs)\n",
    "            ax.set(xticklabels=[], yticklabels=[], xticks=[], yticks=[])\n",
    "\n",
    "    if with_orig:\n",
    "        axs[0, 0].set(title='Original image')\n",
    "        axs[0, 0].title.set_size(8)\n",
    "    if row_title is not None:\n",
    "        for row_idx in range(num_rows):\n",
    "            axs[row_idx, 0].set(ylabel=row_title[row_idx])\n",
    "\n",
    "    plt.tight_layout()"
   ]
  },
  {
   "cell_type": "markdown",
   "source": [],
   "metadata": {
    "collapsed": false
   }
  },
  {
   "cell_type": "code",
   "execution_count": null,
   "id": "d46dc9a1",
   "metadata": {
    "pycharm": {
     "is_executing": true
    }
   },
   "outputs": [],
   "source": [
    "test = np.array(augmented_images[0])\n"
   ]
  }
 ],
 "metadata": {
  "kernelspec": {
   "display_name": "Python 3 (ipykernel)",
   "language": "python",
   "name": "python3"
  },
  "language_info": {
   "codemirror_mode": {
    "name": "ipython",
    "version": 3
   },
   "file_extension": ".py",
   "mimetype": "text/x-python",
   "name": "python",
   "nbconvert_exporter": "python",
   "pygments_lexer": "ipython3",
   "version": "3.9.7"
  }
 },
 "nbformat": 4,
 "nbformat_minor": 5
}
