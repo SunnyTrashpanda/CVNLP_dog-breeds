{
 "cells": [
  {
   "cell_type": "code",
   "execution_count": 33,
   "id": "b6cf0535",
   "metadata": {},
   "outputs": [],
   "source": [
    "import os\n",
    "import numpy as np\n",
    "import pandas as pd"
   ]
  },
  {
   "cell_type": "code",
   "execution_count": 47,
   "outputs": [
    {
     "data": {
      "text/plain": "<bound method DataFrame.count of         DogId                        Breed  \\\n0        6533               AM STAFF CROSS   \n1        6533               AM STAFF CROSS   \n2        6533               AM STAFF CROSS   \n3        6533               AM STAFF CROSS   \n4        6533               AM STAFF CROSS   \n...       ...                          ...   \n117666  38610        AUSTRALIAN CATTLE DOG   \n117667  38601  CAVALIER KING CHARLES CROSS   \n117668  38601  CAVALIER KING CHARLES CROSS   \n117669  38601  CAVALIER KING CHARLES CROSS   \n117670  38601  CAVALIER KING CHARLES CROSS   \n\n                                           Image  ImageNumber  \n0       65db56cd-18fd-425e-a329-61587d753e81.jpg            1  \n1       745544ba-e959-4307-b556-b68f0b7fb292.jpg            2  \n2       bfa602dc-076b-41fc-9894-65565d571ee6.jpg            3  \n3       918a84e7-24c9-4081-a112-d36ca7105998.jpg            4  \n4       0e84b274-c943-492f-ac67-4ce23df8b33a.jpg            5  \n...                                          ...          ...  \n117666  bb552517-1daf-46e6-8f79-b9343b22a80b.jpg            4  \n117667  990cae7c-0d7b-45d5-ae21-e441a38e4a2b.jpg            1  \n117668  487c92c4-9e2e-4593-a04f-a952ba585f81.jpg            2  \n117669  aef72925-463a-45e6-8367-caa24abaa055.jpg            3  \n117670  bc9d4200-cc79-4602-8346-316064ab0456.jpg            4  \n\n[117671 rows x 4 columns]>"
     },
     "execution_count": 47,
     "metadata": {},
     "output_type": "execute_result"
    }
   ],
   "source": [
    "df = pd.read_csv(r\"dog_breed_photos.csv\")\n",
    "df.count"
   ],
   "metadata": {
    "collapsed": false
   }
  },
  {
   "cell_type": "code",
   "execution_count": 48,
   "id": "c13f7061",
   "metadata": {},
   "outputs": [],
   "source": [
    "cross_breed = df[df[\"Breed\"].str.contains(\"CROSS\") == True][\"Image\"].to_numpy()\n",
    "mixed_breed = df[df[\"Breed\"].str.contains(\"MIXED\") == True][\"Image\"].to_numpy()\n",
    "to_be_deleted = np.concatenate((cross_breed, mixed_breed))"
   ]
  },
  {
   "cell_type": "code",
   "execution_count": 49,
   "outputs": [],
   "source": [
    "#This single line statement will take each file in a specified path and remove it if the filename ends in .png\n",
    "#os.remove(file) for file in os.listdir('path/to/directory') if file.endswith('.png')\n",
    "location = r\"dog_breed_photos\"\n",
    "\n",
    "for file in to_be_deleted:\n",
    "    path = os.path.join(location, file)\n",
    "    if os.path.exists(path):\n",
    "        os.remove(path)"
   ],
   "metadata": {
    "collapsed": false
   }
  },
  {
   "cell_type": "code",
   "execution_count": 43,
   "id": "8d12f9bc",
   "metadata": {},
   "outputs": [],
   "source": [
    "#breed_count = df[\"Breed\"].value_counts()\n",
    "pure_breed = df[df[\"Breed\"].str.contains(\"CROSS\") == False]\n",
    "pure_breed = pure_breed[pure_breed[\"Breed\"].str.contains(\"MIXED\") == False]"
   ]
  },
  {
   "cell_type": "code",
   "execution_count": 44,
   "id": "2bbebb63",
   "metadata": {},
   "outputs": [],
   "source": [
    "#breed_count[breed_count < 500]\n",
    "pure_breed_count = pure_breed[\"Breed\"].value_counts()"
   ]
  },
  {
   "cell_type": "code",
   "execution_count": 45,
   "id": "575424e0",
   "metadata": {},
   "outputs": [
    {
     "data": {
      "text/plain": "GREYHOUND                              7310\nSTAFFORDSHIRE BULL TERRIER             1859\nKELPIE                                 1410\nAUSTRALIAN CATTLE DOG                   989\nAMERICAN STAFFORDSHIRE BULL TERRIER     859\nBULL ARAB                               857\nGERMAN SHEPHERD                         839\nSIBERIAN HUSKY                          805\nBORDER COLLIE                           802\nBOXER                                   796\nJACK RUSSELL TERRIER                    691\nBULL TERRIER                            558\nAMERICAN BULLDOG                        506\nName: Breed, dtype: int64"
     },
     "execution_count": 45,
     "metadata": {},
     "output_type": "execute_result"
    }
   ],
   "source": [
    "pure_breed_count[pure_breed_count > 500]"
   ]
  },
  {
   "cell_type": "code",
   "execution_count": 46,
   "id": "3457ce97",
   "metadata": {},
   "outputs": [
    {
     "data": {
      "text/plain": "CURLY-COATED RETRIEVER         9\nBELGIAN SHEPHERD               9\nSHETLAND SHEEPDOG              8\nNEWFOUNDLAND                   8\nWEIMARANER                     8\nWEST HIGHLAND WHITE TERRIER    8\nSTANDARD SCHNAUZER             6\nBEARDED COLLIE                 5\nPEKINGESE                      5\nCAIRN TERRIER                  5\nVIZSLA                         5\nBASENJI                        5\nIRISH SETTER                   5\nPORTUGUESE WATER DOG           4\nCHOW CHOW                      4\nBOSTON TERRIER                 4\nBOERBOEL                       4\nSHELTIE                        4\nENGLISH POINTER                4\nIRISH TERRIER                  4\nIBIZAN HOUND                   3\nHEINZ 57                       3\nSAMOYED                        3\nFRENCH MASTIFF                 3\nFOXHOUND                       3\nCOONHOUND                      3\nSCOTCH COLLIE                  3\nGERMAN WIREHAIRED POINTER      2\nITALIAN GREYHOUND              2\nBORZOI                         2\nLHASA APSO                     2\nGERMAN PINSCHER                2\nBELGIAN TERVUREN               2\nTIBETAN MASTIFF                2\nCHESAPEAKE BAY RETRIEVER       1\nGORDON SETTER                  1\nKEESHOND                       1\nName: Breed, dtype: int64"
     },
     "execution_count": 46,
     "metadata": {},
     "output_type": "execute_result"
    }
   ],
   "source": [
    "pure_breed_count[pure_breed_count < 10]"
   ]
  },
  {
   "cell_type": "code",
   "execution_count": null,
   "id": "a29d5928",
   "metadata": {},
   "outputs": [],
   "source": []
  }
 ],
 "metadata": {
  "kernelspec": {
   "display_name": "Python 3 (ipykernel)",
   "language": "python",
   "name": "python3"
  },
  "language_info": {
   "codemirror_mode": {
    "name": "ipython",
    "version": 3
   },
   "file_extension": ".py",
   "mimetype": "text/x-python",
   "name": "python",
   "nbconvert_exporter": "python",
   "pygments_lexer": "ipython3",
   "version": "3.9.12"
  }
 },
 "nbformat": 4,
 "nbformat_minor": 5
}
