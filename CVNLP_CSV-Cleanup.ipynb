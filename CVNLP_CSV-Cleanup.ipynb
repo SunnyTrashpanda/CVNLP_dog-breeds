{
 "cells": [
  {
   "cell_type": "code",
   "execution_count": 27,
   "id": "2b85a728",
   "metadata": {},
   "outputs": [],
   "source": [
    "import os\n",
    "import shutil\n",
    "\n",
    "import pandas as pd\n",
    "from PIL import Image"
   ]
  },
  {
   "cell_type": "markdown",
   "id": "59d62c2d",
   "metadata": {},
   "source": [
    "### Load data into a dataframe"
   ]
  },
  {
   "cell_type": "code",
   "execution_count": 28,
   "id": "e6dc4377",
   "metadata": {},
   "outputs": [
    {
     "data": {
      "text/plain": "   DogId           Breed                                     Image  \\\n0   6533  AM STAFF CROSS  65db56cd-18fd-425e-a329-61587d753e81.jpg   \n1   6533  AM STAFF CROSS  745544ba-e959-4307-b556-b68f0b7fb292.jpg   \n2   6533  AM STAFF CROSS  bfa602dc-076b-41fc-9894-65565d571ee6.jpg   \n3   6533  AM STAFF CROSS  918a84e7-24c9-4081-a112-d36ca7105998.jpg   \n4   6533  AM STAFF CROSS  0e84b274-c943-492f-ac67-4ce23df8b33a.jpg   \n\n   ImageNumber  \n0            1  \n1            2  \n2            3  \n3            4  \n4            5  ",
      "text/html": "<div>\n<style scoped>\n    .dataframe tbody tr th:only-of-type {\n        vertical-align: middle;\n    }\n\n    .dataframe tbody tr th {\n        vertical-align: top;\n    }\n\n    .dataframe thead th {\n        text-align: right;\n    }\n</style>\n<table border=\"1\" class=\"dataframe\">\n  <thead>\n    <tr style=\"text-align: right;\">\n      <th></th>\n      <th>DogId</th>\n      <th>Breed</th>\n      <th>Image</th>\n      <th>ImageNumber</th>\n    </tr>\n  </thead>\n  <tbody>\n    <tr>\n      <th>0</th>\n      <td>6533</td>\n      <td>AM STAFF CROSS</td>\n      <td>65db56cd-18fd-425e-a329-61587d753e81.jpg</td>\n      <td>1</td>\n    </tr>\n    <tr>\n      <th>1</th>\n      <td>6533</td>\n      <td>AM STAFF CROSS</td>\n      <td>745544ba-e959-4307-b556-b68f0b7fb292.jpg</td>\n      <td>2</td>\n    </tr>\n    <tr>\n      <th>2</th>\n      <td>6533</td>\n      <td>AM STAFF CROSS</td>\n      <td>bfa602dc-076b-41fc-9894-65565d571ee6.jpg</td>\n      <td>3</td>\n    </tr>\n    <tr>\n      <th>3</th>\n      <td>6533</td>\n      <td>AM STAFF CROSS</td>\n      <td>918a84e7-24c9-4081-a112-d36ca7105998.jpg</td>\n      <td>4</td>\n    </tr>\n    <tr>\n      <th>4</th>\n      <td>6533</td>\n      <td>AM STAFF CROSS</td>\n      <td>0e84b274-c943-492f-ac67-4ce23df8b33a.jpg</td>\n      <td>5</td>\n    </tr>\n  </tbody>\n</table>\n</div>"
     },
     "execution_count": 28,
     "metadata": {},
     "output_type": "execute_result"
    }
   ],
   "source": [
    "df = pd.read_csv(\"dog_breed_photos.csv\")\n",
    "df.head()"
   ]
  },
  {
   "cell_type": "code",
   "execution_count": 29,
   "id": "f0d32c51",
   "metadata": {},
   "outputs": [
    {
     "name": "stdout",
     "output_type": "stream",
     "text": [
      "<class 'pandas.core.frame.DataFrame'>\n",
      "RangeIndex: 117671 entries, 0 to 117670\n",
      "Data columns (total 4 columns):\n",
      " #   Column       Non-Null Count   Dtype \n",
      "---  ------       --------------   ----- \n",
      " 0   DogId        117671 non-null  int64 \n",
      " 1   Breed        117671 non-null  object\n",
      " 2   Image        117671 non-null  object\n",
      " 3   ImageNumber  117671 non-null  int64 \n",
      "dtypes: int64(2), object(2)\n",
      "memory usage: 3.6+ MB\n"
     ]
    }
   ],
   "source": [
    "df.info()"
   ]
  },
  {
   "cell_type": "markdown",
   "id": "7866e955",
   "metadata": {},
   "source": []
  },
  {
   "cell_type": "code",
   "execution_count": 30,
   "id": "ed9ef331",
   "metadata": {},
   "outputs": [
    {
     "data": {
      "text/plain": "STAFFORDSHIRE BULL TERRIER CROSS    11084\nKELPIE CROSS                         8903\nGREYHOUND                            7310\nBULL ARAB CROSS                      7150\nAUSTRALIAN CATTLE DOG CROSS          6352\n                                    ...  \nENGLISH FOXHOUND CROSS                  1\nGORDON SETTER                           1\nBASSET HOUND CROSS                      1\nWATER SPANIEL CROSS                     1\nGOLDENDOODLE CROSS                      1\nName: Breed, Length: 279, dtype: int64"
     },
     "execution_count": 30,
     "metadata": {},
     "output_type": "execute_result"
    }
   ],
   "source": [
    "df.Breed.value_counts()"
   ]
  },
  {
   "cell_type": "markdown",
   "id": "ccb4410e",
   "metadata": {},
   "source": [
    "### Cleaning dataset\n",
    "narrow down to only pure breeds"
   ]
  },
  {
   "cell_type": "code",
   "execution_count": 31,
   "id": "03e66d72",
   "metadata": {},
   "outputs": [
    {
     "data": {
      "text/plain": "GREYHOUND                              7310\nSTAFFORDSHIRE BULL TERRIER             1859\nKELPIE                                 1410\nAUSTRALIAN CATTLE DOG                   989\nAMERICAN STAFFORDSHIRE BULL TERRIER     859\nBULL ARAB                               857\nGERMAN SHEPHERD                         839\nSIBERIAN HUSKY                          805\nBORDER COLLIE                           802\nBOXER                                   796\nJACK RUSSELL TERRIER                    691\nBULL TERRIER                            558\nAMERICAN BULLDOG                        506\nName: Breed, dtype: int64"
     },
     "execution_count": 31,
     "metadata": {},
     "output_type": "execute_result"
    }
   ],
   "source": [
    "# https://stackoverflow.com/a/26577689\n",
    "search_for = ['CROSS', 'MIXED']\n",
    "pure_breed = df[df[\"Breed\"].str.contains('|'.join(search_for)) == False]\n",
    "pure_breed_count = pure_breed[\"Breed\"].value_counts()\n",
    "pure_breed_count[pure_breed_count > 500]"
   ]
  },
  {
   "cell_type": "markdown",
   "id": "310b6c63",
   "metadata": {},
   "source": [
    "taking only the breeds from \"AMERICAN STAFFORDSHIRE BULL TERRIER\" to \"BORDER COLLIE\"\n",
    "(\"AMERICAN STAFFORDSHIRE BULL TERRIER\", \"BULL ARAB\", \"GERMAN SHEPHERD\", \"SIBERIAN HUSKY\", \"BORDER COLLIE\")"
   ]
  },
  {
   "cell_type": "code",
   "execution_count": 32,
   "id": "566fee3f",
   "metadata": {},
   "outputs": [
    {
     "data": {
      "text/plain": "     DogId           Breed                                     Image  \\\n328   6673  SIBERIAN HUSKY  4d924d95-de4c-43c0-a586-9fb19cadf905.jpg   \n329   6673  SIBERIAN HUSKY  851cc9ee-fc4d-430c-99f6-6425b8bbbe6b.jpg   \n330   6673  SIBERIAN HUSKY  7d055dfa-dc6f-4f2b-a7be-dc8bc666836f.jpg   \n331   6673  SIBERIAN HUSKY  f1f55f0a-c3d6-442b-b686-71b83b510dc5.jpg   \n332   6671  SIBERIAN HUSKY  a2e49a61-7c6a-46f0-a80e-9f32e596c1df.jpg   \n\n     ImageNumber  \n328            1  \n329            2  \n330            3  \n331            4  \n332            1  ",
      "text/html": "<div>\n<style scoped>\n    .dataframe tbody tr th:only-of-type {\n        vertical-align: middle;\n    }\n\n    .dataframe tbody tr th {\n        vertical-align: top;\n    }\n\n    .dataframe thead th {\n        text-align: right;\n    }\n</style>\n<table border=\"1\" class=\"dataframe\">\n  <thead>\n    <tr style=\"text-align: right;\">\n      <th></th>\n      <th>DogId</th>\n      <th>Breed</th>\n      <th>Image</th>\n      <th>ImageNumber</th>\n    </tr>\n  </thead>\n  <tbody>\n    <tr>\n      <th>328</th>\n      <td>6673</td>\n      <td>SIBERIAN HUSKY</td>\n      <td>4d924d95-de4c-43c0-a586-9fb19cadf905.jpg</td>\n      <td>1</td>\n    </tr>\n    <tr>\n      <th>329</th>\n      <td>6673</td>\n      <td>SIBERIAN HUSKY</td>\n      <td>851cc9ee-fc4d-430c-99f6-6425b8bbbe6b.jpg</td>\n      <td>2</td>\n    </tr>\n    <tr>\n      <th>330</th>\n      <td>6673</td>\n      <td>SIBERIAN HUSKY</td>\n      <td>7d055dfa-dc6f-4f2b-a7be-dc8bc666836f.jpg</td>\n      <td>3</td>\n    </tr>\n    <tr>\n      <th>331</th>\n      <td>6673</td>\n      <td>SIBERIAN HUSKY</td>\n      <td>f1f55f0a-c3d6-442b-b686-71b83b510dc5.jpg</td>\n      <td>4</td>\n    </tr>\n    <tr>\n      <th>332</th>\n      <td>6671</td>\n      <td>SIBERIAN HUSKY</td>\n      <td>a2e49a61-7c6a-46f0-a80e-9f32e596c1df.jpg</td>\n      <td>1</td>\n    </tr>\n  </tbody>\n</table>\n</div>"
     },
     "execution_count": 32,
     "metadata": {},
     "output_type": "execute_result"
    }
   ],
   "source": [
    "search_for = [\"AMERICAN STAFFORDSHIRE BULL TERRIER\", \"BULL ARAB\", \"GERMAN SHEPHERD\", \"SIBERIAN HUSKY\", \"BORDER COLLIE\"]\n",
    "dataset = pure_breed[pure_breed[\"Breed\"].str.contains('|'.join(search_for)) == True]\n",
    "dataset.head()"
   ]
  },
  {
   "cell_type": "code",
   "execution_count": 33,
   "outputs": [
    {
     "name": "stdout",
     "output_type": "stream",
     "text": [
      "<class 'pandas.core.frame.DataFrame'>\n",
      "Int64Index: 4162 entries, 328 to 117183\n",
      "Data columns (total 4 columns):\n",
      " #   Column       Non-Null Count  Dtype \n",
      "---  ------       --------------  ----- \n",
      " 0   DogId        4162 non-null   int64 \n",
      " 1   Breed        4162 non-null   object\n",
      " 2   Image        4162 non-null   object\n",
      " 3   ImageNumber  4162 non-null   int64 \n",
      "dtypes: int64(2), object(2)\n",
      "memory usage: 162.6+ KB\n"
     ]
    }
   ],
   "source": [
    "dataset.info()"
   ],
   "metadata": {
    "collapsed": false
   }
  },
  {
   "cell_type": "markdown",
   "id": "745bf46b",
   "metadata": {},
   "source": [
    "### Check if a file is a valid image file"
   ]
  },
  {
   "cell_type": "code",
   "execution_count": 34,
   "id": "8dfd6c44",
   "metadata": {},
   "outputs": [
    {
     "data": {
      "text/plain": "12"
     },
     "execution_count": 34,
     "metadata": {},
     "output_type": "execute_result"
    }
   ],
   "source": [
    "location = r\"dog_breed_photos\"\n",
    "broken_images = []\n",
    "for image in dataset['Image']:\n",
    "    try:\n",
    "        Image.open(os.path.join(location, image))\n",
    "    except IOError:\n",
    "        broken_images.append(image)\n",
    "len(broken_images)"
   ]
  },
  {
   "cell_type": "code",
   "execution_count": 35,
   "id": "1d25d106",
   "metadata": {},
   "outputs": [
    {
     "data": {
      "text/plain": "        DogId      Breed                                     Image  \\\n108766  36586  BULL ARAB  c1a143ae-02fa-48e3-91e8-b5e78ff5069b.jpg   \n108767  36586  BULL ARAB  0d2dc25d-bdda-4c30-b739-c72ef3307deb.jpg   \n108768  36586  BULL ARAB  0dbf2135-96d1-4149-bae9-675f7f1aa360.jpg   \n108769  36586  BULL ARAB  e5a3e529-1cd0-41bd-abc4-4b8a5f30e1e9.jpg   \n108770  36586  BULL ARAB  c900d764-2227-4c7c-bc65-677334a1dc11.jpg   \n108771  36586  BULL ARAB  97f79ead-4ad5-46d8-9351-2b6b0158878a.jpg   \n114961  37869  BULL ARAB  2eb22090-51a3-44f0-a35a-32bf24f55f25.jpg   \n116613  38428  BULL ARAB  a65e1622-e75d-492d-b783-33ec2a953de2.jpg   \n116614  38428  BULL ARAB  81db1ca5-557c-4533-a469-d19dc7494672.jpg   \n116615  38428  BULL ARAB  3e749e27-1a9a-411f-a66b-0417f82ec791.jpg   \n116616  38428  BULL ARAB  55b005cb-ab7e-4b19-a3d1-7ce5c10634dc.jpg   \n116617  38428  BULL ARAB  85347b8f-e76b-4dce-8b8e-ac5d4aacbb38.jpg   \n\n        ImageNumber  \n108766            1  \n108767            2  \n108768            3  \n108769            4  \n108770            5  \n108771            6  \n114961            1  \n116613            1  \n116614            2  \n116615            3  \n116616            4  \n116617            5  ",
      "text/html": "<div>\n<style scoped>\n    .dataframe tbody tr th:only-of-type {\n        vertical-align: middle;\n    }\n\n    .dataframe tbody tr th {\n        vertical-align: top;\n    }\n\n    .dataframe thead th {\n        text-align: right;\n    }\n</style>\n<table border=\"1\" class=\"dataframe\">\n  <thead>\n    <tr style=\"text-align: right;\">\n      <th></th>\n      <th>DogId</th>\n      <th>Breed</th>\n      <th>Image</th>\n      <th>ImageNumber</th>\n    </tr>\n  </thead>\n  <tbody>\n    <tr>\n      <th>108766</th>\n      <td>36586</td>\n      <td>BULL ARAB</td>\n      <td>c1a143ae-02fa-48e3-91e8-b5e78ff5069b.jpg</td>\n      <td>1</td>\n    </tr>\n    <tr>\n      <th>108767</th>\n      <td>36586</td>\n      <td>BULL ARAB</td>\n      <td>0d2dc25d-bdda-4c30-b739-c72ef3307deb.jpg</td>\n      <td>2</td>\n    </tr>\n    <tr>\n      <th>108768</th>\n      <td>36586</td>\n      <td>BULL ARAB</td>\n      <td>0dbf2135-96d1-4149-bae9-675f7f1aa360.jpg</td>\n      <td>3</td>\n    </tr>\n    <tr>\n      <th>108769</th>\n      <td>36586</td>\n      <td>BULL ARAB</td>\n      <td>e5a3e529-1cd0-41bd-abc4-4b8a5f30e1e9.jpg</td>\n      <td>4</td>\n    </tr>\n    <tr>\n      <th>108770</th>\n      <td>36586</td>\n      <td>BULL ARAB</td>\n      <td>c900d764-2227-4c7c-bc65-677334a1dc11.jpg</td>\n      <td>5</td>\n    </tr>\n    <tr>\n      <th>108771</th>\n      <td>36586</td>\n      <td>BULL ARAB</td>\n      <td>97f79ead-4ad5-46d8-9351-2b6b0158878a.jpg</td>\n      <td>6</td>\n    </tr>\n    <tr>\n      <th>114961</th>\n      <td>37869</td>\n      <td>BULL ARAB</td>\n      <td>2eb22090-51a3-44f0-a35a-32bf24f55f25.jpg</td>\n      <td>1</td>\n    </tr>\n    <tr>\n      <th>116613</th>\n      <td>38428</td>\n      <td>BULL ARAB</td>\n      <td>a65e1622-e75d-492d-b783-33ec2a953de2.jpg</td>\n      <td>1</td>\n    </tr>\n    <tr>\n      <th>116614</th>\n      <td>38428</td>\n      <td>BULL ARAB</td>\n      <td>81db1ca5-557c-4533-a469-d19dc7494672.jpg</td>\n      <td>2</td>\n    </tr>\n    <tr>\n      <th>116615</th>\n      <td>38428</td>\n      <td>BULL ARAB</td>\n      <td>3e749e27-1a9a-411f-a66b-0417f82ec791.jpg</td>\n      <td>3</td>\n    </tr>\n    <tr>\n      <th>116616</th>\n      <td>38428</td>\n      <td>BULL ARAB</td>\n      <td>55b005cb-ab7e-4b19-a3d1-7ce5c10634dc.jpg</td>\n      <td>4</td>\n    </tr>\n    <tr>\n      <th>116617</th>\n      <td>38428</td>\n      <td>BULL ARAB</td>\n      <td>85347b8f-e76b-4dce-8b8e-ac5d4aacbb38.jpg</td>\n      <td>5</td>\n    </tr>\n  </tbody>\n</table>\n</div>"
     },
     "execution_count": 35,
     "metadata": {},
     "output_type": "execute_result"
    }
   ],
   "source": [
    "broken_images_df = dataset[dataset['Image'].str.contains('|'.join(broken_images))]\n",
    "broken_images_df"
   ]
  },
  {
   "cell_type": "markdown",
   "id": "e336290e",
   "metadata": {},
   "source": [
    "## Delete those 12 broken images from dataset"
   ]
  },
  {
   "cell_type": "code",
   "execution_count": 36,
   "id": "cf9b7cc2",
   "metadata": {},
   "outputs": [
    {
     "name": "stdout",
     "output_type": "stream",
     "text": [
      "<class 'pandas.core.frame.DataFrame'>\n",
      "Int64Index: 4150 entries, 328 to 117183\n",
      "Data columns (total 4 columns):\n",
      " #   Column       Non-Null Count  Dtype \n",
      "---  ------       --------------  ----- \n",
      " 0   DogId        4150 non-null   int64 \n",
      " 1   Breed        4150 non-null   object\n",
      " 2   Image        4150 non-null   object\n",
      " 3   ImageNumber  4150 non-null   int64 \n",
      "dtypes: int64(2), object(2)\n",
      "memory usage: 162.1+ KB\n"
     ]
    },
    {
     "name": "stderr",
     "output_type": "stream",
     "text": [
      "C:\\Users\\Dage Zhu\\AppData\\Local\\Temp\\ipykernel_11676\\2950251189.py:1: SettingWithCopyWarning: \n",
      "A value is trying to be set on a copy of a slice from a DataFrame\n",
      "\n",
      "See the caveats in the documentation: https://pandas.pydata.org/pandas-docs/stable/user_guide/indexing.html#returning-a-view-versus-a-copy\n",
      "  dataset.drop(labels=broken_images_df.index, axis=0, inplace=True)\n"
     ]
    }
   ],
   "source": [
    "dataset.drop(labels=broken_images_df.index, axis=0, inplace=True)\n",
    "dataset.info()"
   ]
  },
  {
   "cell_type": "markdown",
   "id": "9ce1038d",
   "metadata": {},
   "source": [
    "## Delete wrongly labeled Images"
   ]
  },
  {
   "cell_type": "code",
   "execution_count": 37,
   "id": "c14fc528",
   "metadata": {},
   "outputs": [
    {
     "data": {
      "text/plain": "        DogId            Breed                                     Image  \\\n58545   23606    BORDER COLLIE  1b39e0ef-d49b-476d-9516-ba3eec6ef5d7.jpg   \n58548   23606    BORDER COLLIE  04e91b7c-efdc-4bb5-816d-542669847e8c.jpg   \n63328   24815  GERMAN SHEPHERD  2b814eb2-3327-464c-b481-697a9000deec.jpg   \n63364   24844    BORDER COLLIE  4cee3786-ebda-474a-8aee-32c0191b979c.jpg   \n91231   32285        BULL ARAB  3fbc03c1-f535-4661-ae51-7ea93eeeee2a.jpg   \n115849  38233    BORDER COLLIE  87f8cff2-a139-48b1-89b8-dbde357faf0b.jpg   \n\n        ImageNumber  \n58545             3  \n58548             6  \n63328             1  \n63364             2  \n91231             2  \n115849            1  ",
      "text/html": "<div>\n<style scoped>\n    .dataframe tbody tr th:only-of-type {\n        vertical-align: middle;\n    }\n\n    .dataframe tbody tr th {\n        vertical-align: top;\n    }\n\n    .dataframe thead th {\n        text-align: right;\n    }\n</style>\n<table border=\"1\" class=\"dataframe\">\n  <thead>\n    <tr style=\"text-align: right;\">\n      <th></th>\n      <th>DogId</th>\n      <th>Breed</th>\n      <th>Image</th>\n      <th>ImageNumber</th>\n    </tr>\n  </thead>\n  <tbody>\n    <tr>\n      <th>58545</th>\n      <td>23606</td>\n      <td>BORDER COLLIE</td>\n      <td>1b39e0ef-d49b-476d-9516-ba3eec6ef5d7.jpg</td>\n      <td>3</td>\n    </tr>\n    <tr>\n      <th>58548</th>\n      <td>23606</td>\n      <td>BORDER COLLIE</td>\n      <td>04e91b7c-efdc-4bb5-816d-542669847e8c.jpg</td>\n      <td>6</td>\n    </tr>\n    <tr>\n      <th>63328</th>\n      <td>24815</td>\n      <td>GERMAN SHEPHERD</td>\n      <td>2b814eb2-3327-464c-b481-697a9000deec.jpg</td>\n      <td>1</td>\n    </tr>\n    <tr>\n      <th>63364</th>\n      <td>24844</td>\n      <td>BORDER COLLIE</td>\n      <td>4cee3786-ebda-474a-8aee-32c0191b979c.jpg</td>\n      <td>2</td>\n    </tr>\n    <tr>\n      <th>91231</th>\n      <td>32285</td>\n      <td>BULL ARAB</td>\n      <td>3fbc03c1-f535-4661-ae51-7ea93eeeee2a.jpg</td>\n      <td>2</td>\n    </tr>\n    <tr>\n      <th>115849</th>\n      <td>38233</td>\n      <td>BORDER COLLIE</td>\n      <td>87f8cff2-a139-48b1-89b8-dbde357faf0b.jpg</td>\n      <td>1</td>\n    </tr>\n  </tbody>\n</table>\n</div>"
     },
     "execution_count": 37,
     "metadata": {},
     "output_type": "execute_result"
    }
   ],
   "source": [
    "wrong_label = ['0b6d18df-b3e5-410c-89bd-20082809d669.jpg',\n",
    "               '1b39e0ef-d49b-476d-9516-ba3eec6ef5d7.jpg',\n",
    "               '1de403a2-db84-4f33-9974-bbfdbb4a10ea.jpg',\n",
    "               '1f2b3dc0-1945-491d-a21a-dd9bd07ad0a6.jpg',\n",
    "               '2b814eb2-3327-464c-b481-697a9000deec.jpg',\n",
    "               '2d4c0bdd-ea93-40e4-a249-f22c7745a83b.jpg',\n",
    "               '3fbc03c1-f535-4661-ae51-7ea93eeeee2a.jpg',\n",
    "               '04e91b7c-efdc-4bb5-816d-542669847e8c.jpg',\n",
    "               '4a696f81-9d85-478e-815d-7f91517dc6eb.jpg',\n",
    "               '4cee3786-ebda-474a-8aee-32c0191b979c.jpg',\n",
    "               '5d911b5b-5f82-4c9c-a74d-a7bd21de3f16.jpg',\n",
    "               '5fb0618f-4919-4aae-b085-1cb712821f2e.jpg',\n",
    "               '035ca613-d8a4-4cef-8325-5ed6e0c29da4.jpg',\n",
    "               '61f631d0-0d65-4468-ac3e-3b614d214b21.jpg',\n",
    "               '87f8cff2-a139-48b1-89b8-dbde357faf0b.jpg',\n",
    "               '0412b6b2-d606-47de-b827-542c81821d72.jpg',\n",
    "               '532fd80d-0ef9-4db8-a654-26da7cce5800.jpg',\n",
    "               '564d2813-0bea-4d0e-b634-c58b77414480.jpg',\n",
    "               '564d2813-0bea-4d0e-b634-c58b77414480.jpg',\n",
    "               '840bee44-2d46-4c03-9ebb-5fc94d0f4ccf.jpg',\n",
    "               '3513c486-0976-42c3-9a7e-9fc4ce8a0b8b.jpg',\n",
    "               '0857594e-6308-4670-bb37-d7fefead418c.jpg',\n",
    "               '2376923e-bc15-4889-949d-46d99264256b.jpg',\n",
    "               '4704636a-c0d1-41a8-af7a-8ff89814b599.jpg',\n",
    "               '66773738-5e80-460f-8a03-44d892c5b291.jpg',\n",
    "               'a0afa062-8559-4c38-bd0c-1aa027aa18f9.jpg',\n",
    "               'a3da77db-bf5c-4d43-aa85-ab779d633f67.jpg',\n",
    "               'd23f2bb2-da39-48b2-b5e0-dfa839d8840a.jpg',\n",
    "               'f81dc592-4d8f-4223-9a79-a534903389d6.jpg',\n",
    "               'f600feee-ff0b-49ec-9e69-97b3090190f1.jpg',\n",
    "               'f8372af6-93a2-4462-8f52-9b4c3c6f4af2.jpg',\n",
    "               'ffebd60e-d8ba-406e-b946-d4af1916a0c5.jpg']\n",
    "\n",
    "wrong_label_df = dataset.loc[dataset['Image'].isin(wrong_label)]\n",
    "wrong_label_df"
   ]
  },
  {
   "cell_type": "markdown",
   "id": "20bf4c05",
   "metadata": {},
   "source": [
    "Since not all images in the folder are in the csv file only 6 where deleted."
   ]
  },
  {
   "cell_type": "code",
   "execution_count": 38,
   "outputs": [
    {
     "name": "stdout",
     "output_type": "stream",
     "text": [
      "<class 'pandas.core.frame.DataFrame'>\n",
      "Int64Index: 4144 entries, 328 to 117183\n",
      "Data columns (total 4 columns):\n",
      " #   Column       Non-Null Count  Dtype \n",
      "---  ------       --------------  ----- \n",
      " 0   DogId        4144 non-null   int64 \n",
      " 1   Breed        4144 non-null   object\n",
      " 2   Image        4144 non-null   object\n",
      " 3   ImageNumber  4144 non-null   int64 \n",
      "dtypes: int64(2), object(2)\n",
      "memory usage: 161.9+ KB\n"
     ]
    },
    {
     "name": "stderr",
     "output_type": "stream",
     "text": [
      "C:\\Users\\Dage Zhu\\AppData\\Local\\Temp\\ipykernel_11676\\2468805847.py:1: SettingWithCopyWarning: \n",
      "A value is trying to be set on a copy of a slice from a DataFrame\n",
      "\n",
      "See the caveats in the documentation: https://pandas.pydata.org/pandas-docs/stable/user_guide/indexing.html#returning-a-view-versus-a-copy\n",
      "  dataset.drop(labels=wrong_label_df.index, axis=0, inplace=True)\n"
     ]
    }
   ],
   "source": [
    "dataset.drop(labels=wrong_label_df.index, axis=0, inplace=True)\n",
    "dataset.info()"
   ],
   "metadata": {
    "collapsed": false
   }
  },
  {
   "cell_type": "markdown",
   "id": "b65dbd50",
   "metadata": {},
   "source": [
    "### Convert clean dataset back to csv"
   ]
  },
  {
   "cell_type": "code",
   "execution_count": 39,
   "id": "58b2e127",
   "metadata": {},
   "outputs": [],
   "source": [
    "dataset.to_csv(\"dataset_CV.csv\", index=False)"
   ]
  },
  {
   "cell_type": "markdown",
   "source": [
    "### Delete all images that are not in the dataset"
   ],
   "metadata": {
    "collapsed": false
   }
  },
  {
   "cell_type": "code",
   "execution_count": 40,
   "outputs": [
    {
     "data": {
      "text/plain": "['04e91b7c-efdc-4bb5-816d-542669847e8c.jpg',\n '0d2dc25d-bdda-4c30-b739-c72ef3307deb.jpg',\n '0dbf2135-96d1-4149-bae9-675f7f1aa360.jpg',\n '1b39e0ef-d49b-476d-9516-ba3eec6ef5d7.jpg',\n '2b814eb2-3327-464c-b481-697a9000deec.jpg',\n '2eb22090-51a3-44f0-a35a-32bf24f55f25.jpg',\n '3e749e27-1a9a-411f-a66b-0417f82ec791.jpg',\n '3fbc03c1-f535-4661-ae51-7ea93eeeee2a.jpg',\n '4cee3786-ebda-474a-8aee-32c0191b979c.jpg',\n '55b005cb-ab7e-4b19-a3d1-7ce5c10634dc.jpg',\n '81db1ca5-557c-4533-a469-d19dc7494672.jpg',\n '85347b8f-e76b-4dce-8b8e-ac5d4aacbb38.jpg',\n '87f8cff2-a139-48b1-89b8-dbde357faf0b.jpg',\n '97f79ead-4ad5-46d8-9351-2b6b0158878a.jpg',\n 'a65e1622-e75d-492d-b783-33ec2a953de2.jpg',\n 'c1a143ae-02fa-48e3-91e8-b5e78ff5069b.jpg',\n 'c900d764-2227-4c7c-bc65-677334a1dc11.jpg',\n 'e5a3e529-1cd0-41bd-abc4-4b8a5f30e1e9.jpg']"
     },
     "execution_count": 40,
     "metadata": {},
     "output_type": "execute_result"
    }
   ],
   "source": [
    "location = r\"dog_breed_photos\"\n",
    "to_be_deleted_images = []\n",
    "for entry in os.listdir(location):\n",
    "    if entry not in set(dataset[\"Image\"]):\n",
    "        to_be_deleted_images.append(entry)\n",
    "to_be_deleted_images"
   ],
   "metadata": {
    "collapsed": false
   }
  },
  {
   "cell_type": "code",
   "execution_count": 41,
   "outputs": [],
   "source": [
    "for file in to_be_deleted_images:\n",
    "    path = os.path.join(location, file)\n",
    "    if os.path.exists(path):\n",
    "        os.remove(path)"
   ],
   "metadata": {
    "collapsed": false
   }
  },
  {
   "cell_type": "markdown",
   "source": [
    "# Create new directory with subdirectories of the breeds"
   ],
   "metadata": {
    "collapsed": false
   }
  },
  {
   "cell_type": "code",
   "execution_count": null,
   "outputs": [],
   "source": [
    "directory = \"image_classes\"\n",
    "parent_dir = \"\"\n",
    "subdirectories = [\"AMERICAN STAFFORDSHIRE BULL TERRIER\", \"BULL ARAB\", \"GERMAN SHEPHERD\", \"SIBERIAN HUSKY\",\n",
    "                  \"BORDER COLLIE\"]\n",
    "\n",
    "# create parent directory\n",
    "try:\n",
    "    # Path\n",
    "    path = os.path.join(parent_dir, directory)\n",
    "    os.mkdir(path)\n",
    "except OSError as error:\n",
    "    print(error)\n",
    "\n",
    "# create child directories\n",
    "parent_dir = directory\n",
    "for d in subdirectories:\n",
    "    try:\n",
    "        path = os.path.join(parent_dir, d)\n",
    "        os.mkdir(path)\n",
    "    except OSError as error:\n",
    "        print(error)"
   ],
   "metadata": {
    "collapsed": false
   }
  },
  {
   "cell_type": "code",
   "execution_count": null,
   "outputs": [],
   "source": [
    "def CopyImagesToCorrespondingDir(image, breed):\n",
    "    from_dir = \"dog_breed_photos\"\n",
    "    to_dir = \"image_classes\"\n",
    "    from_path = os.path.join(from_dir, image)\n",
    "    to_sub_dir = os.path.join(to_dir, breed)\n",
    "    to_path = os.path.join(to_sub_dir, image)\n",
    "    shutil.copy(from_path, to_path)"
   ],
   "metadata": {
    "collapsed": false
   }
  },
  {
   "cell_type": "code",
   "execution_count": null,
   "outputs": [],
   "source": [
    "for i, row in dataset.iterrows():\n",
    "    CopyImagesToCorrespondingDir(row['Image'], row['Breed'])"
   ],
   "metadata": {
    "collapsed": false
   }
  }
 ],
 "metadata": {
  "kernelspec": {
   "display_name": "Python 3 (ipykernel)",
   "language": "python",
   "name": "python3"
  },
  "language_info": {
   "codemirror_mode": {
    "name": "ipython",
    "version": 3
   },
   "file_extension": ".py",
   "mimetype": "text/x-python",
   "name": "python",
   "nbconvert_exporter": "python",
   "pygments_lexer": "ipython3",
   "version": "3.9.7"
  }
 },
 "nbformat": 4,
 "nbformat_minor": 5
}
