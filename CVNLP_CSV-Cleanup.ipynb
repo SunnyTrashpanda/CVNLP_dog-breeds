{
 "cells": [
  {
   "cell_type": "code",
   "execution_count": 50,
   "id": "2b85a728",
   "metadata": {},
   "outputs": [],
   "source": [
    "import os\n",
    "\n",
    "import pandas as pd"
   ]
  },
  {
   "cell_type": "markdown",
   "source": [
    "### Load data into a dataframe"
   ],
   "metadata": {
    "collapsed": false
   }
  },
  {
   "cell_type": "code",
   "execution_count": 51,
   "outputs": [
    {
     "data": {
      "text/plain": "        DogId                        Breed  \\\n0        6533               AM STAFF CROSS   \n1        6533               AM STAFF CROSS   \n2        6533               AM STAFF CROSS   \n3        6533               AM STAFF CROSS   \n4        6533               AM STAFF CROSS   \n...       ...                          ...   \n117666  38610        AUSTRALIAN CATTLE DOG   \n117667  38601  CAVALIER KING CHARLES CROSS   \n117668  38601  CAVALIER KING CHARLES CROSS   \n117669  38601  CAVALIER KING CHARLES CROSS   \n117670  38601  CAVALIER KING CHARLES CROSS   \n\n                                           Image  ImageNumber  \n0       65db56cd-18fd-425e-a329-61587d753e81.jpg            1  \n1       745544ba-e959-4307-b556-b68f0b7fb292.jpg            2  \n2       bfa602dc-076b-41fc-9894-65565d571ee6.jpg            3  \n3       918a84e7-24c9-4081-a112-d36ca7105998.jpg            4  \n4       0e84b274-c943-492f-ac67-4ce23df8b33a.jpg            5  \n...                                          ...          ...  \n117666  bb552517-1daf-46e6-8f79-b9343b22a80b.jpg            4  \n117667  990cae7c-0d7b-45d5-ae21-e441a38e4a2b.jpg            1  \n117668  487c92c4-9e2e-4593-a04f-a952ba585f81.jpg            2  \n117669  aef72925-463a-45e6-8367-caa24abaa055.jpg            3  \n117670  bc9d4200-cc79-4602-8346-316064ab0456.jpg            4  \n\n[117671 rows x 4 columns]",
      "text/html": "<div>\n<style scoped>\n    .dataframe tbody tr th:only-of-type {\n        vertical-align: middle;\n    }\n\n    .dataframe tbody tr th {\n        vertical-align: top;\n    }\n\n    .dataframe thead th {\n        text-align: right;\n    }\n</style>\n<table border=\"1\" class=\"dataframe\">\n  <thead>\n    <tr style=\"text-align: right;\">\n      <th></th>\n      <th>DogId</th>\n      <th>Breed</th>\n      <th>Image</th>\n      <th>ImageNumber</th>\n    </tr>\n  </thead>\n  <tbody>\n    <tr>\n      <th>0</th>\n      <td>6533</td>\n      <td>AM STAFF CROSS</td>\n      <td>65db56cd-18fd-425e-a329-61587d753e81.jpg</td>\n      <td>1</td>\n    </tr>\n    <tr>\n      <th>1</th>\n      <td>6533</td>\n      <td>AM STAFF CROSS</td>\n      <td>745544ba-e959-4307-b556-b68f0b7fb292.jpg</td>\n      <td>2</td>\n    </tr>\n    <tr>\n      <th>2</th>\n      <td>6533</td>\n      <td>AM STAFF CROSS</td>\n      <td>bfa602dc-076b-41fc-9894-65565d571ee6.jpg</td>\n      <td>3</td>\n    </tr>\n    <tr>\n      <th>3</th>\n      <td>6533</td>\n      <td>AM STAFF CROSS</td>\n      <td>918a84e7-24c9-4081-a112-d36ca7105998.jpg</td>\n      <td>4</td>\n    </tr>\n    <tr>\n      <th>4</th>\n      <td>6533</td>\n      <td>AM STAFF CROSS</td>\n      <td>0e84b274-c943-492f-ac67-4ce23df8b33a.jpg</td>\n      <td>5</td>\n    </tr>\n    <tr>\n      <th>...</th>\n      <td>...</td>\n      <td>...</td>\n      <td>...</td>\n      <td>...</td>\n    </tr>\n    <tr>\n      <th>117666</th>\n      <td>38610</td>\n      <td>AUSTRALIAN CATTLE DOG</td>\n      <td>bb552517-1daf-46e6-8f79-b9343b22a80b.jpg</td>\n      <td>4</td>\n    </tr>\n    <tr>\n      <th>117667</th>\n      <td>38601</td>\n      <td>CAVALIER KING CHARLES CROSS</td>\n      <td>990cae7c-0d7b-45d5-ae21-e441a38e4a2b.jpg</td>\n      <td>1</td>\n    </tr>\n    <tr>\n      <th>117668</th>\n      <td>38601</td>\n      <td>CAVALIER KING CHARLES CROSS</td>\n      <td>487c92c4-9e2e-4593-a04f-a952ba585f81.jpg</td>\n      <td>2</td>\n    </tr>\n    <tr>\n      <th>117669</th>\n      <td>38601</td>\n      <td>CAVALIER KING CHARLES CROSS</td>\n      <td>aef72925-463a-45e6-8367-caa24abaa055.jpg</td>\n      <td>3</td>\n    </tr>\n    <tr>\n      <th>117670</th>\n      <td>38601</td>\n      <td>CAVALIER KING CHARLES CROSS</td>\n      <td>bc9d4200-cc79-4602-8346-316064ab0456.jpg</td>\n      <td>4</td>\n    </tr>\n  </tbody>\n</table>\n<p>117671 rows × 4 columns</p>\n</div>"
     },
     "execution_count": 51,
     "metadata": {},
     "output_type": "execute_result"
    }
   ],
   "source": [
    "df = pd.read_csv(\"dog_breed_photos.csv\")\n",
    "df"
   ],
   "metadata": {
    "collapsed": false
   }
  },
  {
   "cell_type": "code",
   "execution_count": 52,
   "outputs": [
    {
     "name": "stdout",
     "output_type": "stream",
     "text": [
      "<class 'pandas.core.frame.DataFrame'>\n",
      "RangeIndex: 117671 entries, 0 to 117670\n",
      "Data columns (total 4 columns):\n",
      " #   Column       Non-Null Count   Dtype \n",
      "---  ------       --------------   ----- \n",
      " 0   DogId        117671 non-null  int64 \n",
      " 1   Breed        117671 non-null  object\n",
      " 2   Image        117671 non-null  object\n",
      " 3   ImageNumber  117671 non-null  int64 \n",
      "dtypes: int64(2), object(2)\n",
      "memory usage: 3.6+ MB\n"
     ]
    }
   ],
   "source": [
    "df.info()"
   ],
   "metadata": {
    "collapsed": false
   }
  },
  {
   "cell_type": "markdown",
   "source": [],
   "metadata": {
    "collapsed": false
   }
  },
  {
   "cell_type": "code",
   "execution_count": 53,
   "outputs": [
    {
     "data": {
      "text/plain": "STAFFORDSHIRE BULL TERRIER CROSS    11084\nKELPIE CROSS                         8903\nGREYHOUND                            7310\nBULL ARAB CROSS                      7150\nAUSTRALIAN CATTLE DOG CROSS          6352\n                                    ...  \nENGLISH FOXHOUND CROSS                  1\nGORDON SETTER                           1\nBASSET HOUND CROSS                      1\nWATER SPANIEL CROSS                     1\nGOLDENDOODLE CROSS                      1\nName: Breed, Length: 279, dtype: int64"
     },
     "execution_count": 53,
     "metadata": {},
     "output_type": "execute_result"
    }
   ],
   "source": [
    "df.Breed.value_counts()"
   ],
   "metadata": {
    "collapsed": false
   }
  },
  {
   "cell_type": "markdown",
   "source": [
    "### Cleaning dataset\n",
    "narrow down to only pure breeds"
   ],
   "metadata": {
    "collapsed": false
   }
  },
  {
   "cell_type": "code",
   "execution_count": 54,
   "id": "03e66d72",
   "metadata": {},
   "outputs": [
    {
     "data": {
      "text/plain": "GREYHOUND                              7310\nSTAFFORDSHIRE BULL TERRIER             1859\nKELPIE                                 1410\nAUSTRALIAN CATTLE DOG                   989\nAMERICAN STAFFORDSHIRE BULL TERRIER     859\nBULL ARAB                               857\nGERMAN SHEPHERD                         839\nSIBERIAN HUSKY                          805\nBORDER COLLIE                           802\nBOXER                                   796\nJACK RUSSELL TERRIER                    691\nBULL TERRIER                            558\nAMERICAN BULLDOG                        506\nName: Breed, dtype: int64"
     },
     "execution_count": 54,
     "metadata": {},
     "output_type": "execute_result"
    }
   ],
   "source": [
    "# https://stackoverflow.com/a/26577689\n",
    "search_for = ['CROSS', 'MIXED']\n",
    "pure_breed = df[df[\"Breed\"].str.contains('|'.join(search_for)) == False]\n",
    "pure_breed_count = pure_breed[\"Breed\"].value_counts()\n",
    "pure_breed_count[pure_breed_count > 500]"
   ]
  },
  {
   "cell_type": "markdown",
   "source": [
    "taking only the breeds from \"AMERICAN STAFFORDSHIRE BULL TERRIER\" to \"BORDER COLLIE\"\n",
    "(\"AMERICAN STAFFORDSHIRE BULL TERRIER\", \"BULL ARAB\", \"GERMAN SHEPHERD\", \"SIBERIAN HUSKY\", \"BORDER COLLIE\")"
   ],
   "metadata": {
    "collapsed": false
   }
  },
  {
   "cell_type": "code",
   "execution_count": 55,
   "id": "566fee3f",
   "metadata": {},
   "outputs": [
    {
     "data": {
      "text/plain": "        DogId           Breed                                     Image  \\\n328      6673  SIBERIAN HUSKY  4d924d95-de4c-43c0-a586-9fb19cadf905.jpg   \n329      6673  SIBERIAN HUSKY  851cc9ee-fc4d-430c-99f6-6425b8bbbe6b.jpg   \n330      6673  SIBERIAN HUSKY  7d055dfa-dc6f-4f2b-a7be-dc8bc666836f.jpg   \n331      6673  SIBERIAN HUSKY  f1f55f0a-c3d6-442b-b686-71b83b510dc5.jpg   \n332      6671  SIBERIAN HUSKY  a2e49a61-7c6a-46f0-a80e-9f32e596c1df.jpg   \n...       ...             ...                                       ...   \n117179  38513   BORDER COLLIE  e3957a7c-9289-4441-bdbd-d2289bef745d.jpg   \n117180  38513   BORDER COLLIE  48afd0ab-baf2-4ee8-9584-9563cec529e7.jpg   \n117181  38513   BORDER COLLIE  8f8c4ea0-7426-4188-bb6c-94fa1ecb1e33.jpg   \n117182  38513   BORDER COLLIE  cce5499f-eb04-4d8c-8d3f-c9c9bee16c5c.jpg   \n117183  38513   BORDER COLLIE  da98f522-c6c3-4aa2-aa65-c82699780851.jpg   \n\n        ImageNumber  \n328               1  \n329               2  \n330               3  \n331               4  \n332               1  \n...             ...  \n117179            5  \n117180            6  \n117181            7  \n117182            8  \n117183            9  \n\n[4162 rows x 4 columns]",
      "text/html": "<div>\n<style scoped>\n    .dataframe tbody tr th:only-of-type {\n        vertical-align: middle;\n    }\n\n    .dataframe tbody tr th {\n        vertical-align: top;\n    }\n\n    .dataframe thead th {\n        text-align: right;\n    }\n</style>\n<table border=\"1\" class=\"dataframe\">\n  <thead>\n    <tr style=\"text-align: right;\">\n      <th></th>\n      <th>DogId</th>\n      <th>Breed</th>\n      <th>Image</th>\n      <th>ImageNumber</th>\n    </tr>\n  </thead>\n  <tbody>\n    <tr>\n      <th>328</th>\n      <td>6673</td>\n      <td>SIBERIAN HUSKY</td>\n      <td>4d924d95-de4c-43c0-a586-9fb19cadf905.jpg</td>\n      <td>1</td>\n    </tr>\n    <tr>\n      <th>329</th>\n      <td>6673</td>\n      <td>SIBERIAN HUSKY</td>\n      <td>851cc9ee-fc4d-430c-99f6-6425b8bbbe6b.jpg</td>\n      <td>2</td>\n    </tr>\n    <tr>\n      <th>330</th>\n      <td>6673</td>\n      <td>SIBERIAN HUSKY</td>\n      <td>7d055dfa-dc6f-4f2b-a7be-dc8bc666836f.jpg</td>\n      <td>3</td>\n    </tr>\n    <tr>\n      <th>331</th>\n      <td>6673</td>\n      <td>SIBERIAN HUSKY</td>\n      <td>f1f55f0a-c3d6-442b-b686-71b83b510dc5.jpg</td>\n      <td>4</td>\n    </tr>\n    <tr>\n      <th>332</th>\n      <td>6671</td>\n      <td>SIBERIAN HUSKY</td>\n      <td>a2e49a61-7c6a-46f0-a80e-9f32e596c1df.jpg</td>\n      <td>1</td>\n    </tr>\n    <tr>\n      <th>...</th>\n      <td>...</td>\n      <td>...</td>\n      <td>...</td>\n      <td>...</td>\n    </tr>\n    <tr>\n      <th>117179</th>\n      <td>38513</td>\n      <td>BORDER COLLIE</td>\n      <td>e3957a7c-9289-4441-bdbd-d2289bef745d.jpg</td>\n      <td>5</td>\n    </tr>\n    <tr>\n      <th>117180</th>\n      <td>38513</td>\n      <td>BORDER COLLIE</td>\n      <td>48afd0ab-baf2-4ee8-9584-9563cec529e7.jpg</td>\n      <td>6</td>\n    </tr>\n    <tr>\n      <th>117181</th>\n      <td>38513</td>\n      <td>BORDER COLLIE</td>\n      <td>8f8c4ea0-7426-4188-bb6c-94fa1ecb1e33.jpg</td>\n      <td>7</td>\n    </tr>\n    <tr>\n      <th>117182</th>\n      <td>38513</td>\n      <td>BORDER COLLIE</td>\n      <td>cce5499f-eb04-4d8c-8d3f-c9c9bee16c5c.jpg</td>\n      <td>8</td>\n    </tr>\n    <tr>\n      <th>117183</th>\n      <td>38513</td>\n      <td>BORDER COLLIE</td>\n      <td>da98f522-c6c3-4aa2-aa65-c82699780851.jpg</td>\n      <td>9</td>\n    </tr>\n  </tbody>\n</table>\n<p>4162 rows × 4 columns</p>\n</div>"
     },
     "execution_count": 55,
     "metadata": {},
     "output_type": "execute_result"
    }
   ],
   "source": [
    "search_for = [\"AMERICAN STAFFORDSHIRE BULL TERRIER\", \"BULL ARAB\", \"GERMAN SHEPHERD\", \"SIBERIAN HUSKY\", \"BORDER COLLIE\"]\n",
    "dataset = pure_breed[pure_breed[\"Breed\"].str.contains('|'.join(search_for)) == True]\n",
    "dataset"
   ]
  },
  {
   "cell_type": "markdown",
   "source": [
    "### Delete all images that are not in the dataset"
   ],
   "metadata": {
    "collapsed": false
   }
  },
  {
   "cell_type": "code",
   "execution_count": 56,
   "outputs": [
    {
     "data": {
      "text/plain": "[]"
     },
     "execution_count": 56,
     "metadata": {},
     "output_type": "execute_result"
    }
   ],
   "source": [
    "location = r\"dog_breed_photos\"\n",
    "to_be_deleted_images = []\n",
    "for entry in os.listdir(location):\n",
    "    if entry not in set(dataset[\"Image\"]):\n",
    "        to_be_deleted_images.append(entry)\n",
    "to_be_deleted_images"
   ],
   "metadata": {
    "collapsed": false
   }
  },
  {
   "cell_type": "code",
   "execution_count": 57,
   "id": "a77eb02b",
   "metadata": {},
   "outputs": [],
   "source": [
    "for file in to_be_deleted_images:\n",
    "    path = os.path.join(location, file)\n",
    "    if os.path.exists(path):\n",
    "        os.remove(path)"
   ]
  },
  {
   "cell_type": "markdown",
   "source": [
    "### Convert clean dataset back to csv"
   ],
   "metadata": {
    "collapsed": false
   }
  },
  {
   "cell_type": "code",
   "execution_count": 64,
   "id": "42b92887",
   "metadata": {},
   "outputs": [],
   "source": [
    "dataset.to_csv(\"dataset_CV.csv\", index=False)"
   ]
  }
 ],
 "metadata": {
  "kernelspec": {
   "display_name": "Python 3 (ipykernel)",
   "language": "python",
   "name": "python3"
  },
  "language_info": {
   "codemirror_mode": {
    "name": "ipython",
    "version": 3
   },
   "file_extension": ".py",
   "mimetype": "text/x-python",
   "name": "python",
   "nbconvert_exporter": "python",
   "pygments_lexer": "ipython3",
   "version": "3.9.12"
  }
 },
 "nbformat": 4,
 "nbformat_minor": 5
}
