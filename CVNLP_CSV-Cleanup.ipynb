{
 "cells": [
  {
   "cell_type": "code",
   "execution_count": 1,
   "id": "2b85a728",
   "metadata": {},
   "outputs": [],
   "source": [
    "import os\n",
    "import pandas as pd\n",
    "from PIL import Image"
   ]
  },
  {
   "cell_type": "markdown",
   "id": "59d62c2d",
   "metadata": {},
   "source": [
    "### Load data into a dataframe"
   ]
  },
  {
   "cell_type": "code",
   "execution_count": 68,
   "id": "e6dc4377",
   "metadata": {},
   "outputs": [
    {
     "data": {
      "text/html": [
       "<div>\n",
       "<style scoped>\n",
       "    .dataframe tbody tr th:only-of-type {\n",
       "        vertical-align: middle;\n",
       "    }\n",
       "\n",
       "    .dataframe tbody tr th {\n",
       "        vertical-align: top;\n",
       "    }\n",
       "\n",
       "    .dataframe thead th {\n",
       "        text-align: right;\n",
       "    }\n",
       "</style>\n",
       "<table border=\"1\" class=\"dataframe\">\n",
       "  <thead>\n",
       "    <tr style=\"text-align: right;\">\n",
       "      <th></th>\n",
       "      <th>DogId</th>\n",
       "      <th>Breed</th>\n",
       "      <th>Image</th>\n",
       "      <th>ImageNumber</th>\n",
       "    </tr>\n",
       "  </thead>\n",
       "  <tbody>\n",
       "    <tr>\n",
       "      <th>0</th>\n",
       "      <td>9473</td>\n",
       "      <td>AMERICAN STAFFORDSHIRE BULL TERRIER</td>\n",
       "      <td>89f3c062-8928-487b-b7c0-8ab50f44641e.jpg</td>\n",
       "      <td>1</td>\n",
       "    </tr>\n",
       "    <tr>\n",
       "      <th>1</th>\n",
       "      <td>9473</td>\n",
       "      <td>AMERICAN STAFFORDSHIRE BULL TERRIER</td>\n",
       "      <td>e9e33b00-5ec4-4742-ac02-b9ee2a88314f.jpg</td>\n",
       "      <td>2</td>\n",
       "    </tr>\n",
       "    <tr>\n",
       "      <th>2</th>\n",
       "      <td>9473</td>\n",
       "      <td>AMERICAN STAFFORDSHIRE BULL TERRIER</td>\n",
       "      <td>2a81e50c-efdb-4e98-9220-d6945753731d.jpg</td>\n",
       "      <td>3</td>\n",
       "    </tr>\n",
       "    <tr>\n",
       "      <th>3</th>\n",
       "      <td>9473</td>\n",
       "      <td>AMERICAN STAFFORDSHIRE BULL TERRIER</td>\n",
       "      <td>0609e883-2c18-40b2-a4a5-8a90754a94f6.jpg</td>\n",
       "      <td>4</td>\n",
       "    </tr>\n",
       "    <tr>\n",
       "      <th>4</th>\n",
       "      <td>9548</td>\n",
       "      <td>AMERICAN STAFFORDSHIRE BULL TERRIER</td>\n",
       "      <td>10fb3092-842a-466b-a3db-3c88f624c6f4.jpg</td>\n",
       "      <td>1</td>\n",
       "    </tr>\n",
       "    <tr>\n",
       "      <th>...</th>\n",
       "      <td>...</td>\n",
       "      <td>...</td>\n",
       "      <td>...</td>\n",
       "      <td>...</td>\n",
       "    </tr>\n",
       "    <tr>\n",
       "      <th>4139</th>\n",
       "      <td>38513</td>\n",
       "      <td>BORDER COLLIE</td>\n",
       "      <td>e3957a7c-9289-4441-bdbd-d2289bef745d.jpg</td>\n",
       "      <td>5</td>\n",
       "    </tr>\n",
       "    <tr>\n",
       "      <th>4140</th>\n",
       "      <td>38513</td>\n",
       "      <td>BORDER COLLIE</td>\n",
       "      <td>48afd0ab-baf2-4ee8-9584-9563cec529e7.jpg</td>\n",
       "      <td>6</td>\n",
       "    </tr>\n",
       "    <tr>\n",
       "      <th>4141</th>\n",
       "      <td>38513</td>\n",
       "      <td>BORDER COLLIE</td>\n",
       "      <td>8f8c4ea0-7426-4188-bb6c-94fa1ecb1e33.jpg</td>\n",
       "      <td>7</td>\n",
       "    </tr>\n",
       "    <tr>\n",
       "      <th>4142</th>\n",
       "      <td>38513</td>\n",
       "      <td>BORDER COLLIE</td>\n",
       "      <td>cce5499f-eb04-4d8c-8d3f-c9c9bee16c5c.jpg</td>\n",
       "      <td>8</td>\n",
       "    </tr>\n",
       "    <tr>\n",
       "      <th>4143</th>\n",
       "      <td>38513</td>\n",
       "      <td>BORDER COLLIE</td>\n",
       "      <td>da98f522-c6c3-4aa2-aa65-c82699780851.jpg</td>\n",
       "      <td>9</td>\n",
       "    </tr>\n",
       "  </tbody>\n",
       "</table>\n",
       "<p>4144 rows × 4 columns</p>\n",
       "</div>"
      ],
      "text/plain": [
       "      DogId                                Breed  \\\n",
       "0      9473  AMERICAN STAFFORDSHIRE BULL TERRIER   \n",
       "1      9473  AMERICAN STAFFORDSHIRE BULL TERRIER   \n",
       "2      9473  AMERICAN STAFFORDSHIRE BULL TERRIER   \n",
       "3      9473  AMERICAN STAFFORDSHIRE BULL TERRIER   \n",
       "4      9548  AMERICAN STAFFORDSHIRE BULL TERRIER   \n",
       "...     ...                                  ...   \n",
       "4139  38513                        BORDER COLLIE   \n",
       "4140  38513                        BORDER COLLIE   \n",
       "4141  38513                        BORDER COLLIE   \n",
       "4142  38513                        BORDER COLLIE   \n",
       "4143  38513                        BORDER COLLIE   \n",
       "\n",
       "                                         Image  ImageNumber  \n",
       "0     89f3c062-8928-487b-b7c0-8ab50f44641e.jpg            1  \n",
       "1     e9e33b00-5ec4-4742-ac02-b9ee2a88314f.jpg            2  \n",
       "2     2a81e50c-efdb-4e98-9220-d6945753731d.jpg            3  \n",
       "3     0609e883-2c18-40b2-a4a5-8a90754a94f6.jpg            4  \n",
       "4     10fb3092-842a-466b-a3db-3c88f624c6f4.jpg            1  \n",
       "...                                        ...          ...  \n",
       "4139  e3957a7c-9289-4441-bdbd-d2289bef745d.jpg            5  \n",
       "4140  48afd0ab-baf2-4ee8-9584-9563cec529e7.jpg            6  \n",
       "4141  8f8c4ea0-7426-4188-bb6c-94fa1ecb1e33.jpg            7  \n",
       "4142  cce5499f-eb04-4d8c-8d3f-c9c9bee16c5c.jpg            8  \n",
       "4143  da98f522-c6c3-4aa2-aa65-c82699780851.jpg            9  \n",
       "\n",
       "[4144 rows x 4 columns]"
      ]
     },
     "execution_count": 68,
     "metadata": {},
     "output_type": "execute_result"
    }
   ],
   "source": [
    "df = pd.read_csv(\"dataset_CV.csv\")\n",
    "df"
   ]
  },
  {
   "cell_type": "code",
   "execution_count": 69,
   "id": "f0d32c51",
   "metadata": {},
   "outputs": [
    {
     "name": "stdout",
     "output_type": "stream",
     "text": [
      "<class 'pandas.core.frame.DataFrame'>\n",
      "RangeIndex: 4144 entries, 0 to 4143\n",
      "Data columns (total 4 columns):\n",
      " #   Column       Non-Null Count  Dtype \n",
      "---  ------       --------------  ----- \n",
      " 0   DogId        4144 non-null   int64 \n",
      " 1   Breed        4144 non-null   object\n",
      " 2   Image        4144 non-null   object\n",
      " 3   ImageNumber  4144 non-null   int64 \n",
      "dtypes: int64(2), object(2)\n",
      "memory usage: 129.6+ KB\n"
     ]
    }
   ],
   "source": [
    "df.info()"
   ]
  },
  {
   "cell_type": "markdown",
   "id": "7866e955",
   "metadata": {},
   "source": []
  },
  {
   "cell_type": "code",
   "execution_count": 70,
   "id": "ed9ef331",
   "metadata": {},
   "outputs": [
    {
     "data": {
      "text/plain": [
       "AMERICAN STAFFORDSHIRE BULL TERRIER    859\n",
       "BULL ARAB                              844\n",
       "GERMAN SHEPHERD                        838\n",
       "SIBERIAN HUSKY                         805\n",
       "BORDER COLLIE                          798\n",
       "Name: Breed, dtype: int64"
      ]
     },
     "execution_count": 70,
     "metadata": {},
     "output_type": "execute_result"
    }
   ],
   "source": [
    "df.Breed.value_counts()"
   ]
  },
  {
   "cell_type": "markdown",
   "id": "ccb4410e",
   "metadata": {},
   "source": [
    "### Cleaning dataset\n",
    "narrow down to only pure breeds"
   ]
  },
  {
   "cell_type": "code",
   "execution_count": null,
   "id": "03e66d72",
   "metadata": {},
   "outputs": [],
   "source": [
    "# https://stackoverflow.com/a/26577689\n",
    "search_for = ['CROSS', 'MIXED']\n",
    "pure_breed = df[df[\"Breed\"].str.contains('|'.join(search_for)) == False]\n",
    "pure_breed_count = pure_breed[\"Breed\"].value_counts()\n",
    "pure_breed_count[pure_breed_count > 500]"
   ]
  },
  {
   "cell_type": "markdown",
   "id": "310b6c63",
   "metadata": {},
   "source": [
    "taking only the breeds from \"AMERICAN STAFFORDSHIRE BULL TERRIER\" to \"BORDER COLLIE\"\n",
    "(\"AMERICAN STAFFORDSHIRE BULL TERRIER\", \"BULL ARAB\", \"GERMAN SHEPHERD\", \"SIBERIAN HUSKY\", \"BORDER COLLIE\")"
   ]
  },
  {
   "cell_type": "code",
   "execution_count": null,
   "id": "566fee3f",
   "metadata": {},
   "outputs": [],
   "source": [
    "search_for = [\"AMERICAN STAFFORDSHIRE BULL TERRIER\", \"BULL ARAB\", \"GERMAN SHEPHERD\", \"SIBERIAN HUSKY\", \"BORDER COLLIE\"]\n",
    "dataset = pure_breed[pure_breed[\"Breed\"].str.contains('|'.join(search_for)) == True]\n",
    "dataset"
   ]
  },
  {
   "cell_type": "markdown",
   "id": "6cd6f37b",
   "metadata": {},
   "source": [
    "### Delete all images that are not in the dataset"
   ]
  },
  {
   "cell_type": "code",
   "execution_count": null,
   "id": "d9d6914e",
   "metadata": {},
   "outputs": [],
   "source": [
    "location = r\"dog_breed_photos\"\n",
    "to_be_deleted_images = []\n",
    "for entry in os.listdir(location):\n",
    "    if entry not in set(dataset[\"Image\"]):\n",
    "        to_be_deleted_images.append(entry)\n",
    "to_be_deleted_images"
   ]
  },
  {
   "cell_type": "code",
   "execution_count": null,
   "id": "a77eb02b",
   "metadata": {},
   "outputs": [],
   "source": [
    "for file in to_be_deleted_images:\n",
    "    path = os.path.join(location, file)\n",
    "    if os.path.exists(path):\n",
    "        os.remove(path)"
   ]
  },
  {
   "cell_type": "markdown",
   "id": "745bf46b",
   "metadata": {},
   "source": [
    "### Check if a file is a valid image file"
   ]
  },
  {
   "cell_type": "code",
   "execution_count": 6,
   "id": "8dfd6c44",
   "metadata": {},
   "outputs": [
    {
     "data": {
      "text/plain": [
       "12"
      ]
     },
     "execution_count": 6,
     "metadata": {},
     "output_type": "execute_result"
    }
   ],
   "source": [
    "location = r\"dog_breed_photos\"\n",
    "broken_images = []\n",
    "for image in dataset['Image']:\n",
    "    try:\n",
    "        Image.open(os.path.join(location, image))\n",
    "    except IOError:\n",
    "        broken_images.append(image)\n",
    "len(broken_images)"
   ]
  },
  {
   "cell_type": "code",
   "execution_count": 7,
   "id": "1d25d106",
   "metadata": {},
   "outputs": [
    {
     "data": {
      "text/html": [
       "<div>\n",
       "<style scoped>\n",
       "    .dataframe tbody tr th:only-of-type {\n",
       "        vertical-align: middle;\n",
       "    }\n",
       "\n",
       "    .dataframe tbody tr th {\n",
       "        vertical-align: top;\n",
       "    }\n",
       "\n",
       "    .dataframe thead th {\n",
       "        text-align: right;\n",
       "    }\n",
       "</style>\n",
       "<table border=\"1\" class=\"dataframe\">\n",
       "  <thead>\n",
       "    <tr style=\"text-align: right;\">\n",
       "      <th></th>\n",
       "      <th>Unnamed: 0</th>\n",
       "      <th>DogId</th>\n",
       "      <th>Breed</th>\n",
       "      <th>Image</th>\n",
       "      <th>ImageNumber</th>\n",
       "    </tr>\n",
       "  </thead>\n",
       "  <tbody>\n",
       "    <tr>\n",
       "      <th>1604</th>\n",
       "      <td>108766</td>\n",
       "      <td>36586</td>\n",
       "      <td>BULL ARAB</td>\n",
       "      <td>c1a143ae-02fa-48e3-91e8-b5e78ff5069b.jpg</td>\n",
       "      <td>1</td>\n",
       "    </tr>\n",
       "    <tr>\n",
       "      <th>1605</th>\n",
       "      <td>108767</td>\n",
       "      <td>36586</td>\n",
       "      <td>BULL ARAB</td>\n",
       "      <td>0d2dc25d-bdda-4c30-b739-c72ef3307deb.jpg</td>\n",
       "      <td>2</td>\n",
       "    </tr>\n",
       "    <tr>\n",
       "      <th>1606</th>\n",
       "      <td>108768</td>\n",
       "      <td>36586</td>\n",
       "      <td>BULL ARAB</td>\n",
       "      <td>0dbf2135-96d1-4149-bae9-675f7f1aa360.jpg</td>\n",
       "      <td>3</td>\n",
       "    </tr>\n",
       "    <tr>\n",
       "      <th>1607</th>\n",
       "      <td>108769</td>\n",
       "      <td>36586</td>\n",
       "      <td>BULL ARAB</td>\n",
       "      <td>e5a3e529-1cd0-41bd-abc4-4b8a5f30e1e9.jpg</td>\n",
       "      <td>4</td>\n",
       "    </tr>\n",
       "    <tr>\n",
       "      <th>1608</th>\n",
       "      <td>108770</td>\n",
       "      <td>36586</td>\n",
       "      <td>BULL ARAB</td>\n",
       "      <td>c900d764-2227-4c7c-bc65-677334a1dc11.jpg</td>\n",
       "      <td>5</td>\n",
       "    </tr>\n",
       "    <tr>\n",
       "      <th>1609</th>\n",
       "      <td>108771</td>\n",
       "      <td>36586</td>\n",
       "      <td>BULL ARAB</td>\n",
       "      <td>97f79ead-4ad5-46d8-9351-2b6b0158878a.jpg</td>\n",
       "      <td>6</td>\n",
       "    </tr>\n",
       "    <tr>\n",
       "      <th>1700</th>\n",
       "      <td>114961</td>\n",
       "      <td>37869</td>\n",
       "      <td>BULL ARAB</td>\n",
       "      <td>2eb22090-51a3-44f0-a35a-32bf24f55f25.jpg</td>\n",
       "      <td>1</td>\n",
       "    </tr>\n",
       "    <tr>\n",
       "      <th>1703</th>\n",
       "      <td>116613</td>\n",
       "      <td>38428</td>\n",
       "      <td>BULL ARAB</td>\n",
       "      <td>a65e1622-e75d-492d-b783-33ec2a953de2.jpg</td>\n",
       "      <td>1</td>\n",
       "    </tr>\n",
       "    <tr>\n",
       "      <th>1704</th>\n",
       "      <td>116614</td>\n",
       "      <td>38428</td>\n",
       "      <td>BULL ARAB</td>\n",
       "      <td>81db1ca5-557c-4533-a469-d19dc7494672.jpg</td>\n",
       "      <td>2</td>\n",
       "    </tr>\n",
       "    <tr>\n",
       "      <th>1705</th>\n",
       "      <td>116615</td>\n",
       "      <td>38428</td>\n",
       "      <td>BULL ARAB</td>\n",
       "      <td>3e749e27-1a9a-411f-a66b-0417f82ec791.jpg</td>\n",
       "      <td>3</td>\n",
       "    </tr>\n",
       "    <tr>\n",
       "      <th>1706</th>\n",
       "      <td>116616</td>\n",
       "      <td>38428</td>\n",
       "      <td>BULL ARAB</td>\n",
       "      <td>55b005cb-ab7e-4b19-a3d1-7ce5c10634dc.jpg</td>\n",
       "      <td>4</td>\n",
       "    </tr>\n",
       "    <tr>\n",
       "      <th>1707</th>\n",
       "      <td>116617</td>\n",
       "      <td>38428</td>\n",
       "      <td>BULL ARAB</td>\n",
       "      <td>85347b8f-e76b-4dce-8b8e-ac5d4aacbb38.jpg</td>\n",
       "      <td>5</td>\n",
       "    </tr>\n",
       "  </tbody>\n",
       "</table>\n",
       "</div>"
      ],
      "text/plain": [
       "      Unnamed: 0  DogId      Breed                                     Image  \\\n",
       "1604      108766  36586  BULL ARAB  c1a143ae-02fa-48e3-91e8-b5e78ff5069b.jpg   \n",
       "1605      108767  36586  BULL ARAB  0d2dc25d-bdda-4c30-b739-c72ef3307deb.jpg   \n",
       "1606      108768  36586  BULL ARAB  0dbf2135-96d1-4149-bae9-675f7f1aa360.jpg   \n",
       "1607      108769  36586  BULL ARAB  e5a3e529-1cd0-41bd-abc4-4b8a5f30e1e9.jpg   \n",
       "1608      108770  36586  BULL ARAB  c900d764-2227-4c7c-bc65-677334a1dc11.jpg   \n",
       "1609      108771  36586  BULL ARAB  97f79ead-4ad5-46d8-9351-2b6b0158878a.jpg   \n",
       "1700      114961  37869  BULL ARAB  2eb22090-51a3-44f0-a35a-32bf24f55f25.jpg   \n",
       "1703      116613  38428  BULL ARAB  a65e1622-e75d-492d-b783-33ec2a953de2.jpg   \n",
       "1704      116614  38428  BULL ARAB  81db1ca5-557c-4533-a469-d19dc7494672.jpg   \n",
       "1705      116615  38428  BULL ARAB  3e749e27-1a9a-411f-a66b-0417f82ec791.jpg   \n",
       "1706      116616  38428  BULL ARAB  55b005cb-ab7e-4b19-a3d1-7ce5c10634dc.jpg   \n",
       "1707      116617  38428  BULL ARAB  85347b8f-e76b-4dce-8b8e-ac5d4aacbb38.jpg   \n",
       "\n",
       "      ImageNumber  \n",
       "1604            1  \n",
       "1605            2  \n",
       "1606            3  \n",
       "1607            4  \n",
       "1608            5  \n",
       "1609            6  \n",
       "1700            1  \n",
       "1703            1  \n",
       "1704            2  \n",
       "1705            3  \n",
       "1706            4  \n",
       "1707            5  "
      ]
     },
     "execution_count": 7,
     "metadata": {},
     "output_type": "execute_result"
    }
   ],
   "source": [
    "broken_images_df = df[df['Image'].str.contains('|'.join(broken_images))]\n",
    "broken_images_df"
   ]
  },
  {
   "cell_type": "markdown",
   "id": "e336290e",
   "metadata": {},
   "source": [
    "## Delete those 12 broken images from dataset"
   ]
  },
  {
   "cell_type": "code",
   "execution_count": 8,
   "id": "cf9b7cc2",
   "metadata": {},
   "outputs": [],
   "source": [
    "df.drop(labels=broken_images_df.index, axis=0, inplace=True)"
   ]
  },
  {
   "cell_type": "code",
   "execution_count": 71,
   "id": "3f2aaa68",
   "metadata": {},
   "outputs": [
    {
     "ename": "KeyError",
     "evalue": "\"['Unnamed: 0'] not found in axis\"",
     "output_type": "error",
     "traceback": [
      "\u001b[1;31m---------------------------------------------------------------------------\u001b[0m",
      "\u001b[1;31mKeyError\u001b[0m                                  Traceback (most recent call last)",
      "\u001b[1;32mC:\\Users\\CHIARA~1\\AppData\\Local\\Temp/ipykernel_7656/4251847237.py\u001b[0m in \u001b[0;36m<module>\u001b[1;34m\u001b[0m\n\u001b[1;32m----> 1\u001b[1;33m \u001b[0mdf\u001b[0m\u001b[1;33m.\u001b[0m\u001b[0mdrop\u001b[0m\u001b[1;33m(\u001b[0m\u001b[1;34m'Unnamed: 0'\u001b[0m\u001b[1;33m,\u001b[0m \u001b[0minplace\u001b[0m\u001b[1;33m=\u001b[0m\u001b[1;32mTrue\u001b[0m\u001b[1;33m,\u001b[0m \u001b[0maxis\u001b[0m\u001b[1;33m=\u001b[0m\u001b[1;36m1\u001b[0m\u001b[1;33m)\u001b[0m\u001b[1;33m\u001b[0m\u001b[1;33m\u001b[0m\u001b[0m\n\u001b[0m\u001b[0;32m      2\u001b[0m \u001b[0mdf\u001b[0m\u001b[1;33m\u001b[0m\u001b[1;33m\u001b[0m\u001b[0m\n",
      "\u001b[1;32m~\\anaconda3\\lib\\site-packages\\pandas\\util\\_decorators.py\u001b[0m in \u001b[0;36mwrapper\u001b[1;34m(*args, **kwargs)\u001b[0m\n\u001b[0;32m    309\u001b[0m                     \u001b[0mstacklevel\u001b[0m\u001b[1;33m=\u001b[0m\u001b[0mstacklevel\u001b[0m\u001b[1;33m,\u001b[0m\u001b[1;33m\u001b[0m\u001b[1;33m\u001b[0m\u001b[0m\n\u001b[0;32m    310\u001b[0m                 )\n\u001b[1;32m--> 311\u001b[1;33m             \u001b[1;32mreturn\u001b[0m \u001b[0mfunc\u001b[0m\u001b[1;33m(\u001b[0m\u001b[1;33m*\u001b[0m\u001b[0margs\u001b[0m\u001b[1;33m,\u001b[0m \u001b[1;33m**\u001b[0m\u001b[0mkwargs\u001b[0m\u001b[1;33m)\u001b[0m\u001b[1;33m\u001b[0m\u001b[1;33m\u001b[0m\u001b[0m\n\u001b[0m\u001b[0;32m    312\u001b[0m \u001b[1;33m\u001b[0m\u001b[0m\n\u001b[0;32m    313\u001b[0m         \u001b[1;32mreturn\u001b[0m \u001b[0mwrapper\u001b[0m\u001b[1;33m\u001b[0m\u001b[1;33m\u001b[0m\u001b[0m\n",
      "\u001b[1;32m~\\anaconda3\\lib\\site-packages\\pandas\\core\\frame.py\u001b[0m in \u001b[0;36mdrop\u001b[1;34m(self, labels, axis, index, columns, level, inplace, errors)\u001b[0m\n\u001b[0;32m   4904\u001b[0m                 \u001b[0mweight\u001b[0m  \u001b[1;36m1.0\u001b[0m     \u001b[1;36m0.8\u001b[0m\u001b[1;33m\u001b[0m\u001b[1;33m\u001b[0m\u001b[0m\n\u001b[0;32m   4905\u001b[0m         \"\"\"\n\u001b[1;32m-> 4906\u001b[1;33m         return super().drop(\n\u001b[0m\u001b[0;32m   4907\u001b[0m             \u001b[0mlabels\u001b[0m\u001b[1;33m=\u001b[0m\u001b[0mlabels\u001b[0m\u001b[1;33m,\u001b[0m\u001b[1;33m\u001b[0m\u001b[1;33m\u001b[0m\u001b[0m\n\u001b[0;32m   4908\u001b[0m             \u001b[0maxis\u001b[0m\u001b[1;33m=\u001b[0m\u001b[0maxis\u001b[0m\u001b[1;33m,\u001b[0m\u001b[1;33m\u001b[0m\u001b[1;33m\u001b[0m\u001b[0m\n",
      "\u001b[1;32m~\\anaconda3\\lib\\site-packages\\pandas\\core\\generic.py\u001b[0m in \u001b[0;36mdrop\u001b[1;34m(self, labels, axis, index, columns, level, inplace, errors)\u001b[0m\n\u001b[0;32m   4148\u001b[0m         \u001b[1;32mfor\u001b[0m \u001b[0maxis\u001b[0m\u001b[1;33m,\u001b[0m \u001b[0mlabels\u001b[0m \u001b[1;32min\u001b[0m \u001b[0maxes\u001b[0m\u001b[1;33m.\u001b[0m\u001b[0mitems\u001b[0m\u001b[1;33m(\u001b[0m\u001b[1;33m)\u001b[0m\u001b[1;33m:\u001b[0m\u001b[1;33m\u001b[0m\u001b[1;33m\u001b[0m\u001b[0m\n\u001b[0;32m   4149\u001b[0m             \u001b[1;32mif\u001b[0m \u001b[0mlabels\u001b[0m \u001b[1;32mis\u001b[0m \u001b[1;32mnot\u001b[0m \u001b[1;32mNone\u001b[0m\u001b[1;33m:\u001b[0m\u001b[1;33m\u001b[0m\u001b[1;33m\u001b[0m\u001b[0m\n\u001b[1;32m-> 4150\u001b[1;33m                 \u001b[0mobj\u001b[0m \u001b[1;33m=\u001b[0m \u001b[0mobj\u001b[0m\u001b[1;33m.\u001b[0m\u001b[0m_drop_axis\u001b[0m\u001b[1;33m(\u001b[0m\u001b[0mlabels\u001b[0m\u001b[1;33m,\u001b[0m \u001b[0maxis\u001b[0m\u001b[1;33m,\u001b[0m \u001b[0mlevel\u001b[0m\u001b[1;33m=\u001b[0m\u001b[0mlevel\u001b[0m\u001b[1;33m,\u001b[0m \u001b[0merrors\u001b[0m\u001b[1;33m=\u001b[0m\u001b[0merrors\u001b[0m\u001b[1;33m)\u001b[0m\u001b[1;33m\u001b[0m\u001b[1;33m\u001b[0m\u001b[0m\n\u001b[0m\u001b[0;32m   4151\u001b[0m \u001b[1;33m\u001b[0m\u001b[0m\n\u001b[0;32m   4152\u001b[0m         \u001b[1;32mif\u001b[0m \u001b[0minplace\u001b[0m\u001b[1;33m:\u001b[0m\u001b[1;33m\u001b[0m\u001b[1;33m\u001b[0m\u001b[0m\n",
      "\u001b[1;32m~\\anaconda3\\lib\\site-packages\\pandas\\core\\generic.py\u001b[0m in \u001b[0;36m_drop_axis\u001b[1;34m(self, labels, axis, level, errors)\u001b[0m\n\u001b[0;32m   4183\u001b[0m                 \u001b[0mnew_axis\u001b[0m \u001b[1;33m=\u001b[0m \u001b[0maxis\u001b[0m\u001b[1;33m.\u001b[0m\u001b[0mdrop\u001b[0m\u001b[1;33m(\u001b[0m\u001b[0mlabels\u001b[0m\u001b[1;33m,\u001b[0m \u001b[0mlevel\u001b[0m\u001b[1;33m=\u001b[0m\u001b[0mlevel\u001b[0m\u001b[1;33m,\u001b[0m \u001b[0merrors\u001b[0m\u001b[1;33m=\u001b[0m\u001b[0merrors\u001b[0m\u001b[1;33m)\u001b[0m\u001b[1;33m\u001b[0m\u001b[1;33m\u001b[0m\u001b[0m\n\u001b[0;32m   4184\u001b[0m             \u001b[1;32melse\u001b[0m\u001b[1;33m:\u001b[0m\u001b[1;33m\u001b[0m\u001b[1;33m\u001b[0m\u001b[0m\n\u001b[1;32m-> 4185\u001b[1;33m                 \u001b[0mnew_axis\u001b[0m \u001b[1;33m=\u001b[0m \u001b[0maxis\u001b[0m\u001b[1;33m.\u001b[0m\u001b[0mdrop\u001b[0m\u001b[1;33m(\u001b[0m\u001b[0mlabels\u001b[0m\u001b[1;33m,\u001b[0m \u001b[0merrors\u001b[0m\u001b[1;33m=\u001b[0m\u001b[0merrors\u001b[0m\u001b[1;33m)\u001b[0m\u001b[1;33m\u001b[0m\u001b[1;33m\u001b[0m\u001b[0m\n\u001b[0m\u001b[0;32m   4186\u001b[0m             \u001b[0mresult\u001b[0m \u001b[1;33m=\u001b[0m \u001b[0mself\u001b[0m\u001b[1;33m.\u001b[0m\u001b[0mreindex\u001b[0m\u001b[1;33m(\u001b[0m\u001b[1;33m**\u001b[0m\u001b[1;33m{\u001b[0m\u001b[0maxis_name\u001b[0m\u001b[1;33m:\u001b[0m \u001b[0mnew_axis\u001b[0m\u001b[1;33m}\u001b[0m\u001b[1;33m)\u001b[0m\u001b[1;33m\u001b[0m\u001b[1;33m\u001b[0m\u001b[0m\n\u001b[0;32m   4187\u001b[0m \u001b[1;33m\u001b[0m\u001b[0m\n",
      "\u001b[1;32m~\\anaconda3\\lib\\site-packages\\pandas\\core\\indexes\\base.py\u001b[0m in \u001b[0;36mdrop\u001b[1;34m(self, labels, errors)\u001b[0m\n\u001b[0;32m   6015\u001b[0m         \u001b[1;32mif\u001b[0m \u001b[0mmask\u001b[0m\u001b[1;33m.\u001b[0m\u001b[0many\u001b[0m\u001b[1;33m(\u001b[0m\u001b[1;33m)\u001b[0m\u001b[1;33m:\u001b[0m\u001b[1;33m\u001b[0m\u001b[1;33m\u001b[0m\u001b[0m\n\u001b[0;32m   6016\u001b[0m             \u001b[1;32mif\u001b[0m \u001b[0merrors\u001b[0m \u001b[1;33m!=\u001b[0m \u001b[1;34m\"ignore\"\u001b[0m\u001b[1;33m:\u001b[0m\u001b[1;33m\u001b[0m\u001b[1;33m\u001b[0m\u001b[0m\n\u001b[1;32m-> 6017\u001b[1;33m                 \u001b[1;32mraise\u001b[0m \u001b[0mKeyError\u001b[0m\u001b[1;33m(\u001b[0m\u001b[1;34mf\"{labels[mask]} not found in axis\"\u001b[0m\u001b[1;33m)\u001b[0m\u001b[1;33m\u001b[0m\u001b[1;33m\u001b[0m\u001b[0m\n\u001b[0m\u001b[0;32m   6018\u001b[0m             \u001b[0mindexer\u001b[0m \u001b[1;33m=\u001b[0m \u001b[0mindexer\u001b[0m\u001b[1;33m[\u001b[0m\u001b[1;33m~\u001b[0m\u001b[0mmask\u001b[0m\u001b[1;33m]\u001b[0m\u001b[1;33m\u001b[0m\u001b[1;33m\u001b[0m\u001b[0m\n\u001b[0;32m   6019\u001b[0m         \u001b[1;32mreturn\u001b[0m \u001b[0mself\u001b[0m\u001b[1;33m.\u001b[0m\u001b[0mdelete\u001b[0m\u001b[1;33m(\u001b[0m\u001b[0mindexer\u001b[0m\u001b[1;33m)\u001b[0m\u001b[1;33m\u001b[0m\u001b[1;33m\u001b[0m\u001b[0m\n",
      "\u001b[1;31mKeyError\u001b[0m: \"['Unnamed: 0'] not found in axis\""
     ]
    }
   ],
   "source": [
    "df.drop('Unnamed: 0', inplace=True, axis=1)\n",
    "df"
   ]
  },
  {
   "cell_type": "markdown",
   "id": "9ce1038d",
   "metadata": {},
   "source": [
    "## Delete wrongly labeled Images"
   ]
  },
  {
   "cell_type": "code",
   "execution_count": 73,
   "id": "c14fc528",
   "metadata": {},
   "outputs": [
    {
     "name": "stdout",
     "output_type": "stream",
     "text": [
      "<class 'pandas.core.frame.DataFrame'>\n",
      "Int64Index: 0 entries\n",
      "Data columns (total 4 columns):\n",
      " #   Column       Non-Null Count  Dtype \n",
      "---  ------       --------------  ----- \n",
      " 0   DogId        0 non-null      int64 \n",
      " 1   Breed        0 non-null      object\n",
      " 2   Image        0 non-null      object\n",
      " 3   ImageNumber  0 non-null      int64 \n",
      "dtypes: int64(2), object(2)\n",
      "memory usage: 108.0+ bytes\n"
     ]
    }
   ],
   "source": [
    "wrong_label = ['0b6d18df-b3e5-410c-89bd-20082809d669.jpg', \n",
    "               '1b39e0ef-d49b-476d-9516-ba3eec6ef5d7.jpg',\n",
    "              '1de403a2-db84-4f33-9974-bbfdbb4a10ea.jpg',\n",
    "              '1f2b3dc0-1945-491d-a21a-dd9bd07ad0a6.jpg',\n",
    "              '2b814eb2-3327-464c-b481-697a9000deec.jpg',\n",
    "              '2d4c0bdd-ea93-40e4-a249-f22c7745a83b.jpg',\n",
    "              '3fbc03c1-f535-4661-ae51-7ea93eeeee2a.jpg',\n",
    "              '04e91b7c-efdc-4bb5-816d-542669847e8c.jpg',\n",
    "              '4a696f81-9d85-478e-815d-7f91517dc6eb.jpg',\n",
    "              '4cee3786-ebda-474a-8aee-32c0191b979c.jpg',\n",
    "              '5d911b5b-5f82-4c9c-a74d-a7bd21de3f16.jpg',\n",
    "              '5fb0618f-4919-4aae-b085-1cb712821f2e.jpg',\n",
    "              '035ca613-d8a4-4cef-8325-5ed6e0c29da4.jpg',\n",
    "              '61f631d0-0d65-4468-ac3e-3b614d214b21.jpg',\n",
    "              '87f8cff2-a139-48b1-89b8-dbde357faf0b.jpg',\n",
    "              '0412b6b2-d606-47de-b827-542c81821d72.jpg',\n",
    "              '532fd80d-0ef9-4db8-a654-26da7cce5800.jpg',\n",
    "              '564d2813-0bea-4d0e-b634-c58b77414480.jpg',\n",
    "              '564d2813-0bea-4d0e-b634-c58b77414480.jpg',\n",
    "              '840bee44-2d46-4c03-9ebb-5fc94d0f4ccf.jpg',\n",
    "              '3513c486-0976-42c3-9a7e-9fc4ce8a0b8b.jpg',\n",
    "              '0857594e-6308-4670-bb37-d7fefead418c.jpg',\n",
    "              '2376923e-bc15-4889-949d-46d99264256b.jpg',\n",
    "              '4704636a-c0d1-41a8-af7a-8ff89814b599.jpg',\n",
    "              '66773738-5e80-460f-8a03-44d892c5b291.jpg',\n",
    "              'a0afa062-8559-4c38-bd0c-1aa027aa18f9.jpg',\n",
    "              'a3da77db-bf5c-4d43-aa85-ab779d633f67.jpg',\n",
    "              'd23f2bb2-da39-48b2-b5e0-dfa839d8840a.jpg',\n",
    "              'f81dc592-4d8f-4223-9a79-a534903389d6.jpg',\n",
    "              'f600feee-ff0b-49ec-9e69-97b3090190f1.jpg',\n",
    "              'f8372af6-93a2-4462-8f52-9b4c3c6f4af2.jpg',\n",
    "              'ffebd60e-d8ba-406e-b946-d4af1916a0c5.jpg']\n",
    "\n",
    "dataset = df.loc[df['Image'].isin(wrong_label)]\n",
    "df.drop(labels=dataset.index, axis=0, inplace=True)        \n",
    "df.info()"
   ]
  },
  {
   "cell_type": "markdown",
   "id": "20bf4c05",
   "metadata": {},
   "source": [
    "Since not all images in the folder are in the csv file only 6 where deleted."
   ]
  },
  {
   "cell_type": "markdown",
   "id": "b65dbd50",
   "metadata": {},
   "source": [
    "### Convert clean dataset back to csv"
   ]
  },
  {
   "cell_type": "code",
   "execution_count": 66,
   "id": "58b2e127",
   "metadata": {},
   "outputs": [],
   "source": [
    "dataset.to_csv(\"dataset_CV.csv\", index=False)"
   ]
  },
  {
   "cell_type": "code",
   "execution_count": null,
   "id": "1e71e9ae",
   "metadata": {},
   "outputs": [],
   "source": []
  }
 ],
 "metadata": {
  "kernelspec": {
   "display_name": "Python 3 (ipykernel)",
   "language": "python",
   "name": "python3"
  },
  "language_info": {
   "codemirror_mode": {
    "name": "ipython",
    "version": 3
   },
   "file_extension": ".py",
   "mimetype": "text/x-python",
   "name": "python",
   "nbconvert_exporter": "python",
   "pygments_lexer": "ipython3",
   "version": "3.9.7"
  }
 },
 "nbformat": 4,
 "nbformat_minor": 5
}
