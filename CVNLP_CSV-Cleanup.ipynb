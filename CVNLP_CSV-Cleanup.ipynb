{
 "cells": [
  {
   "cell_type": "code",
   "execution_count": 1,
   "id": "2b85a728",
   "metadata": {},
   "outputs": [
    {
     "data": {
      "text/plain": [
       "<bound method DataFrame.count of         DogId                        Breed  \\\n",
       "0        6533               AM STAFF CROSS   \n",
       "1        6533               AM STAFF CROSS   \n",
       "2        6533               AM STAFF CROSS   \n",
       "3        6533               AM STAFF CROSS   \n",
       "4        6533               AM STAFF CROSS   \n",
       "...       ...                          ...   \n",
       "117666  38610        AUSTRALIAN CATTLE DOG   \n",
       "117667  38601  CAVALIER KING CHARLES CROSS   \n",
       "117668  38601  CAVALIER KING CHARLES CROSS   \n",
       "117669  38601  CAVALIER KING CHARLES CROSS   \n",
       "117670  38601  CAVALIER KING CHARLES CROSS   \n",
       "\n",
       "                                           Image  ImageNumber  \n",
       "0       65db56cd-18fd-425e-a329-61587d753e81.jpg            1  \n",
       "1       745544ba-e959-4307-b556-b68f0b7fb292.jpg            2  \n",
       "2       bfa602dc-076b-41fc-9894-65565d571ee6.jpg            3  \n",
       "3       918a84e7-24c9-4081-a112-d36ca7105998.jpg            4  \n",
       "4       0e84b274-c943-492f-ac67-4ce23df8b33a.jpg            5  \n",
       "...                                          ...          ...  \n",
       "117666  bb552517-1daf-46e6-8f79-b9343b22a80b.jpg            4  \n",
       "117667  990cae7c-0d7b-45d5-ae21-e441a38e4a2b.jpg            1  \n",
       "117668  487c92c4-9e2e-4593-a04f-a952ba585f81.jpg            2  \n",
       "117669  aef72925-463a-45e6-8367-caa24abaa055.jpg            3  \n",
       "117670  bc9d4200-cc79-4602-8346-316064ab0456.jpg            4  \n",
       "\n",
       "[117671 rows x 4 columns]>"
      ]
     },
     "execution_count": 1,
     "metadata": {},
     "output_type": "execute_result"
    }
   ],
   "source": [
    "import os\n",
    "import numpy as np\n",
    "import pandas as pd\n",
    "\n",
    "df = pd.read_csv(\"dog_breed_photos.csv\")\n",
    "df.count"
   ]
  },
  {
   "cell_type": "code",
   "execution_count": 2,
   "id": "e65b46cd",
   "metadata": {},
   "outputs": [],
   "source": [
    "cross_breed = df[df[\"Breed\"].str.contains(\"CROSS\") == True][\"Image\"].to_numpy()\n",
    "mixed_breed = df[df[\"Breed\"].str.contains(\"MIXED\") == True][\"Image\"].to_numpy()\n",
    "to_be_deleted = np.concatenate((cross_breed, mixed_breed))"
   ]
  },
  {
   "cell_type": "code",
   "execution_count": 3,
   "id": "df9691aa",
   "metadata": {},
   "outputs": [],
   "source": [
    "#This single line statement will take each file in a specified path and remove it if the filename ends in .png\n",
    "#os.remove(file) for file in os.listdir('path/to/directory') if file.endswith('.png')\n",
    "location = r\"dog_breed_photos\"\n",
    "\n",
    "for file in to_be_deleted:\n",
    "    path = os.path.join(location, file)\n",
    "    if os.path.exists(path):\n",
    "        os.remove(path)\n"
   ]
  },
  {
   "cell_type": "code",
   "execution_count": 4,
   "id": "03e66d72",
   "metadata": {},
   "outputs": [],
   "source": [
    "#breed_count = df[\"Breed\"].value_counts()\n",
    "pure_breed = df[df[\"Breed\"].str.contains(\"CROSS\") == False]\n",
    "pure_breed = pure_breed[pure_breed[\"Breed\"].str.contains(\"MIXED\") == False]"
   ]
  },
  {
   "cell_type": "code",
   "execution_count": 5,
   "id": "ed156d48",
   "metadata": {},
   "outputs": [],
   "source": [
    "#breed_count[breed_count < 500]\n",
    "pure_breed_count = pure_breed[\"Breed\"].value_counts()"
   ]
  },
  {
   "cell_type": "code",
   "execution_count": 6,
   "id": "92bc0b5b",
   "metadata": {},
   "outputs": [
    {
     "data": {
      "text/plain": [
       "GREYHOUND                              7310\n",
       "STAFFORDSHIRE BULL TERRIER             1859\n",
       "KELPIE                                 1410\n",
       "AUSTRALIAN CATTLE DOG                   989\n",
       "AMERICAN STAFFORDSHIRE BULL TERRIER     859\n",
       "BULL ARAB                               857\n",
       "GERMAN SHEPHERD                         839\n",
       "SIBERIAN HUSKY                          805\n",
       "BORDER COLLIE                           802\n",
       "BOXER                                   796\n",
       "JACK RUSSELL TERRIER                    691\n",
       "BULL TERRIER                            558\n",
       "AMERICAN BULLDOG                        506\n",
       "Name: Breed, dtype: int64"
      ]
     },
     "execution_count": 6,
     "metadata": {},
     "output_type": "execute_result"
    }
   ],
   "source": [
    "pure_breed_count[pure_breed_count > 500]\n",
    "\n",
    "#taking the breeds \"AMERICAN STAFFORDSHIRE BULL TERRIER\" to \"BORDER COLLOE\""
   ]
  },
  {
   "cell_type": "code",
   "execution_count": 15,
   "id": "566fee3f",
   "metadata": {},
   "outputs": [
    {
     "name": "stdout",
     "output_type": "stream",
     "text": [
      "        DogId                                Breed  \\\n",
      "9242     9473  AMERICAN STAFFORDSHIRE BULL TERRIER   \n",
      "9243     9473  AMERICAN STAFFORDSHIRE BULL TERRIER   \n",
      "9244     9473  AMERICAN STAFFORDSHIRE BULL TERRIER   \n",
      "9245     9473  AMERICAN STAFFORDSHIRE BULL TERRIER   \n",
      "9507     9548  AMERICAN STAFFORDSHIRE BULL TERRIER   \n",
      "...       ...                                  ...   \n",
      "117179  38513                        BORDER COLLIE   \n",
      "117180  38513                        BORDER COLLIE   \n",
      "117181  38513                        BORDER COLLIE   \n",
      "117182  38513                        BORDER COLLIE   \n",
      "117183  38513                        BORDER COLLIE   \n",
      "\n",
      "                                           Image  ImageNumber  \n",
      "9242    89f3c062-8928-487b-b7c0-8ab50f44641e.jpg            1  \n",
      "9243    e9e33b00-5ec4-4742-ac02-b9ee2a88314f.jpg            2  \n",
      "9244    2a81e50c-efdb-4e98-9220-d6945753731d.jpg            3  \n",
      "9245    0609e883-2c18-40b2-a4a5-8a90754a94f6.jpg            4  \n",
      "9507    10fb3092-842a-466b-a3db-3c88f624c6f4.jpg            1  \n",
      "...                                          ...          ...  \n",
      "117179  e3957a7c-9289-4441-bdbd-d2289bef745d.jpg            5  \n",
      "117180  48afd0ab-baf2-4ee8-9584-9563cec529e7.jpg            6  \n",
      "117181  8f8c4ea0-7426-4188-bb6c-94fa1ecb1e33.jpg            7  \n",
      "117182  cce5499f-eb04-4d8c-8d3f-c9c9bee16c5c.jpg            8  \n",
      "117183  da98f522-c6c3-4aa2-aa65-c82699780851.jpg            9  \n",
      "\n",
      "[4162 rows x 4 columns]\n"
     ]
    }
   ],
   "source": [
    "asbt= pure_breed[pure_breed[\"Breed\"].str.contains(\"AMERICAN STAFFORDSHIRE BULL TERRIER\") == True]\n",
    "ba= pure_breed[pure_breed[\"Breed\"].str.contains(\"BULL ARAB\") == True]\n",
    "gs= pure_breed[pure_breed[\"Breed\"].str.contains(\"GERMAN SHEPHERD\") == True]\n",
    "sh= pure_breed[pure_breed[\"Breed\"].str.contains(\"SIBERIAN HUSKY\") == True]\n",
    "bc= pure_breed[pure_breed[\"Breed\"].str.contains(\"BORDER COLLIE\") == True]\n",
    "\n",
    "\n",
    "dataset = pd.concat([asbt, ba, gs, sh, bc])\n",
    "#dataset = dataset.reset_index()\n",
    "print(dataset)"
   ]
  },
  {
   "cell_type": "code",
   "execution_count": 20,
   "id": "2ff8fbba",
   "metadata": {
    "scrolled": true
   },
   "outputs": [
    {
     "name": "stdout",
     "output_type": "stream",
     "text": [
      "        DogId                  Breed  \\\n",
      "16       6565              CHIHUAHUA   \n",
      "19       6574   JACK RUSSELL TERRIER   \n",
      "20       6582     LABRADOR RETRIEVER   \n",
      "23       6584     LABRADOR RETRIEVER   \n",
      "24       6585     LABRADOR RETRIEVER   \n",
      "...       ...                    ...   \n",
      "117662  38607                 KELPIE   \n",
      "117663  38610  AUSTRALIAN CATTLE DOG   \n",
      "117664  38610  AUSTRALIAN CATTLE DOG   \n",
      "117665  38610  AUSTRALIAN CATTLE DOG   \n",
      "117666  38610  AUSTRALIAN CATTLE DOG   \n",
      "\n",
      "                                           Image  ImageNumber  \n",
      "16      11778a5f-7070-487e-bb8c-e251ed44d613.jpg            1  \n",
      "19      f700162e-ee44-41c7-9b8e-22ef1041a529.jpg            1  \n",
      "20      5dcede36-f598-4952-8ac3-08a560ce005f.jpg            1  \n",
      "23      0ea80fa6-67fd-407d-ba57-06746decf39a.jpg            1  \n",
      "24      44c30b46-621b-4225-8edf-53469197fcdc.jpg            1  \n",
      "...                                          ...          ...  \n",
      "117662  924739e9-d7aa-4115-9e2e-76e7d8fdaec2.jpg            7  \n",
      "117663  9468baee-5902-400e-b69e-17b1f9ab4449.jpg            1  \n",
      "117664  de9d31da-4b1d-4a89-af85-10296fcf7eb9.jpg            2  \n",
      "117665  3b8917cc-3433-477e-adf1-c131e8fb6640.jpg            3  \n",
      "117666  bb552517-1daf-46e6-8f79-b9343b22a80b.jpg            4  \n",
      "\n",
      "[22368 rows x 4 columns]\n"
     ]
    }
   ],
   "source": [
    "#to_delete_pure_breed = df[df[\"Breed\"].str.contains(\"CROSS\") == False]\n",
    "#pure_breed = pure_breed[pure_breed[\"Breed\"].str.contains(\"MIXED\") == False]\n",
    "\n",
    "to_delete_pure_breed = pd.concat([pure_breed, dataset]).drop_duplicates(keep=False)\n",
    "print(to_delete_pure_breed)\n",
    "\n",
    "to_delete_pure_breed = to_delete_pure_breed[\"Image\"].to_numpy()"
   ]
  },
  {
   "cell_type": "code",
   "execution_count": 21,
   "id": "a77eb02b",
   "metadata": {},
   "outputs": [],
   "source": [
    "#This single line statement will take each file in a specified path and remove it if the filename ends in .png\n",
    "#os.remove(file) for file in os.listdir('path/to/directory') if file.endswith('.png')\n",
    "location = r\"dog_breed_photos\"\n",
    "\n",
    "for file in to_delete_pure_breed:\n",
    "    path = os.path.join(location, file)\n",
    "    if os.path.exists(path):\n",
    "        os.remove(path)"
   ]
  },
  {
   "cell_type": "code",
   "execution_count": 22,
   "id": "42b92887",
   "metadata": {},
   "outputs": [],
   "source": [
    "dataset.to_csv(\"dataset_CV.csv\")"
   ]
  },
  {
   "cell_type": "code",
   "execution_count": null,
   "id": "1f3a52e4",
   "metadata": {},
   "outputs": [],
   "source": []
  }
 ],
 "metadata": {
  "kernelspec": {
   "display_name": "Python 3 (ipykernel)",
   "language": "python",
   "name": "python3"
  },
  "language_info": {
   "codemirror_mode": {
    "name": "ipython",
    "version": 3
   },
   "file_extension": ".py",
   "mimetype": "text/x-python",
   "name": "python",
   "nbconvert_exporter": "python",
   "pygments_lexer": "ipython3",
   "version": "3.9.12"
  }
 },
 "nbformat": 4,
 "nbformat_minor": 5
}
