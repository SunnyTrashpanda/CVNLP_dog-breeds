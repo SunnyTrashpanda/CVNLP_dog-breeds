{
 "cells": [
  {
   "cell_type": "code",
   "execution_count": 1,
   "id": "b6cf0535",
   "metadata": {},
   "outputs": [
    {
     "data": {
      "text/plain": [
       "<bound method DataFrame.count of         DogId                        Breed  \\\n",
       "0        6533               AM STAFF CROSS   \n",
       "1        6533               AM STAFF CROSS   \n",
       "2        6533               AM STAFF CROSS   \n",
       "3        6533               AM STAFF CROSS   \n",
       "4        6533               AM STAFF CROSS   \n",
       "...       ...                          ...   \n",
       "117666  38610        AUSTRALIAN CATTLE DOG   \n",
       "117667  38601  CAVALIER KING CHARLES CROSS   \n",
       "117668  38601  CAVALIER KING CHARLES CROSS   \n",
       "117669  38601  CAVALIER KING CHARLES CROSS   \n",
       "117670  38601  CAVALIER KING CHARLES CROSS   \n",
       "\n",
       "                                           Image  ImageNumber  \n",
       "0       65db56cd-18fd-425e-a329-61587d753e81.jpg            1  \n",
       "1       745544ba-e959-4307-b556-b68f0b7fb292.jpg            2  \n",
       "2       bfa602dc-076b-41fc-9894-65565d571ee6.jpg            3  \n",
       "3       918a84e7-24c9-4081-a112-d36ca7105998.jpg            4  \n",
       "4       0e84b274-c943-492f-ac67-4ce23df8b33a.jpg            5  \n",
       "...                                          ...          ...  \n",
       "117666  bb552517-1daf-46e6-8f79-b9343b22a80b.jpg            4  \n",
       "117667  990cae7c-0d7b-45d5-ae21-e441a38e4a2b.jpg            1  \n",
       "117668  487c92c4-9e2e-4593-a04f-a952ba585f81.jpg            2  \n",
       "117669  aef72925-463a-45e6-8367-caa24abaa055.jpg            3  \n",
       "117670  bc9d4200-cc79-4602-8346-316064ab0456.jpg            4  \n",
       "\n",
       "[117671 rows x 4 columns]>"
      ]
     },
     "execution_count": 1,
     "metadata": {},
     "output_type": "execute_result"
    }
   ],
   "source": [
    "import os\n",
    "import pandas as pd\n",
    "\n",
    "df = pd.read_csv(\"dog_breed_photos.csv\")\n",
    "df.count"
   ]
  },
  {
   "cell_type": "code",
   "execution_count": 2,
   "id": "c13f7061",
   "metadata": {},
   "outputs": [],
   "source": [
    "cross_breed = df[df[\"Breed\"].str.contains(\"CROSS\") == True]\n",
    "mixed_breed = df[df[\"Breed\"].str.contains(\"MIXED\") == True]\n",
    "\n",
    "#This single line statement will take each file in a specified path and remove it if the filename ends in .png\n",
    "#os.remove(file) for file in os.listdir('path/to/directory') if file.endswith('.png')\n",
    "\n",
    "#os.remove(cross_breed[\"Image\"]) for file in os-listdir(\"dog_breed_photos\")\n",
    "#os.remove(mixed_breed[\"Image\"]) for file in os-listdir(\"dog_breed_photos\")"
   ]
  },
  {
   "cell_type": "code",
   "execution_count": 3,
   "id": "8d12f9bc",
   "metadata": {},
   "outputs": [],
   "source": [
    "#breed_count = df[\"Breed\"].value_counts()\n",
    "pure_breed = df[df[\"Breed\"].str.contains(\"CROSS\") == False]\n",
    "pure_breed = pure_breed[pure_breed[\"Breed\"].str.contains(\"MIXED\") == False]"
   ]
  },
  {
   "cell_type": "code",
   "execution_count": 4,
   "id": "2bbebb63",
   "metadata": {},
   "outputs": [],
   "source": [
    "#breed_count[breed_count < 500]\n",
    "pure_breed_count = pure_breed[\"Breed\"].value_counts()"
   ]
  },
  {
   "cell_type": "code",
   "execution_count": 5,
   "id": "575424e0",
   "metadata": {},
   "outputs": [
    {
     "data": {
      "text/plain": [
       "GREYHOUND                              7310\n",
       "STAFFORDSHIRE BULL TERRIER             1859\n",
       "KELPIE                                 1410\n",
       "AUSTRALIAN CATTLE DOG                   989\n",
       "AMERICAN STAFFORDSHIRE BULL TERRIER     859\n",
       "BULL ARAB                               857\n",
       "GERMAN SHEPHERD                         839\n",
       "SIBERIAN HUSKY                          805\n",
       "BORDER COLLIE                           802\n",
       "BOXER                                   796\n",
       "JACK RUSSELL TERRIER                    691\n",
       "BULL TERRIER                            558\n",
       "AMERICAN BULLDOG                        506\n",
       "Name: Breed, dtype: int64"
      ]
     },
     "execution_count": 5,
     "metadata": {},
     "output_type": "execute_result"
    }
   ],
   "source": [
    "pure_breed_count[pure_breed_count > 500]"
   ]
  },
  {
   "cell_type": "code",
   "execution_count": 6,
   "id": "3457ce97",
   "metadata": {},
   "outputs": [
    {
     "data": {
      "text/plain": [
       "CURLY-COATED RETRIEVER         9\n",
       "BELGIAN SHEPHERD               9\n",
       "SHETLAND SHEEPDOG              8\n",
       "NEWFOUNDLAND                   8\n",
       "WEIMARANER                     8\n",
       "WEST HIGHLAND WHITE TERRIER    8\n",
       "STANDARD SCHNAUZER             6\n",
       "BEARDED COLLIE                 5\n",
       "PEKINGESE                      5\n",
       "CAIRN TERRIER                  5\n",
       "VIZSLA                         5\n",
       "BASENJI                        5\n",
       "IRISH SETTER                   5\n",
       "PORTUGUESE WATER DOG           4\n",
       "CHOW CHOW                      4\n",
       "BOSTON TERRIER                 4\n",
       "BOERBOEL                       4\n",
       "SHELTIE                        4\n",
       "ENGLISH POINTER                4\n",
       "IRISH TERRIER                  4\n",
       "IBIZAN HOUND                   3\n",
       "HEINZ 57                       3\n",
       "SAMOYED                        3\n",
       "FRENCH MASTIFF                 3\n",
       "FOXHOUND                       3\n",
       "COONHOUND                      3\n",
       "SCOTCH COLLIE                  3\n",
       "GERMAN WIREHAIRED POINTER      2\n",
       "ITALIAN GREYHOUND              2\n",
       "BORZOI                         2\n",
       "LHASA APSO                     2\n",
       "GERMAN PINSCHER                2\n",
       "BELGIAN TERVUREN               2\n",
       "TIBETAN MASTIFF                2\n",
       "CHESAPEAKE BAY RETRIEVER       1\n",
       "GORDON SETTER                  1\n",
       "KEESHOND                       1\n",
       "Name: Breed, dtype: int64"
      ]
     },
     "execution_count": 6,
     "metadata": {},
     "output_type": "execute_result"
    }
   ],
   "source": [
    "pure_breed_count[pure_breed_count < 10]"
   ]
  },
  {
   "cell_type": "code",
   "execution_count": null,
   "id": "a29d5928",
   "metadata": {},
   "outputs": [],
   "source": []
  }
 ],
 "metadata": {
  "kernelspec": {
   "display_name": "Python 3 (ipykernel)",
   "language": "python",
   "name": "python3"
  },
  "language_info": {
   "codemirror_mode": {
    "name": "ipython",
    "version": 3
   },
   "file_extension": ".py",
   "mimetype": "text/x-python",
   "name": "python",
   "nbconvert_exporter": "python",
   "pygments_lexer": "ipython3",
   "version": "3.9.12"
  }
 },
 "nbformat": 4,
 "nbformat_minor": 5
}
