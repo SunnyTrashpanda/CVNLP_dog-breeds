{
 "cells": [
  {
   "cell_type": "code",
   "execution_count": 2,
   "id": "5d777de4",
   "metadata": {},
   "outputs": [],
   "source": [
    "from pathlib import Path\n",
    "\n",
    "import matplotlib.pyplot as plt\n",
    "import numpy as np\n",
    "import pandas as pd\n",
    "import torch\n",
    "import torch.nn as nn\n",
    "import torch.nn.functional as F\n",
    "import torch.optim as optim\n",
    "import torchvision.transforms as transforms\n",
    "from PIL import Image\n",
    "from sklearn.model_selection import train_test_split"
   ]
  },
  {
   "cell_type": "code",
   "execution_count": 3,
   "id": "67f7085b",
   "metadata": {},
   "outputs": [],
   "source": [
    "#read the csv\n",
    "#column Breed shows the y with the image name\n",
    "data_csv = pd.read_csv('dataset_CV.csv')\n",
    "# data_csv"
   ]
  },
  {
   "cell_type": "code",
   "execution_count": 4,
   "id": "d5d469e1",
   "metadata": {
    "scrolled": true
   },
   "outputs": [],
   "source": [
    "# preprocessing\n",
    "trans = transforms.Compose([\n",
    "    transforms.Resize((80, 80)),\n",
    "    transforms.ToTensor(),\n",
    "    transforms.Normalize(mean=0.5, std=0.5),  #values anpassen\n",
    "    #transforms.AugMix(),\n",
    "])\n",
    "location = r\"dog_breed_photos\"\n",
    "\n",
    "def create_data(path):\n",
    "    image = Image.open(Path(location) / path)\n",
    "    #img = image.int()\n",
    "    img = trans(image)\n",
    "    image.close()\n",
    "    return img\n",
    "\n",
    "from sklearn import preprocessing\n",
    "import torch\n",
    "\n",
    "data_csv['data'] = data_csv['Image'].apply(lambda image: create_data(image))\n",
    "# data_csv"
   ]
  },
  {
   "cell_type": "code",
   "execution_count": 5,
   "id": "83981659",
   "metadata": {},
   "outputs": [],
   "source": [
    "#creat dataframe for loader\n",
    "df = pd.concat([data_csv['data'], data_csv['Breed']], ignore_index=True, axis=1)"
   ]
  },
  {
   "cell_type": "code",
   "execution_count": 6,
   "outputs": [],
   "source": [
    "\n",
    "labels = [\"AMERICAN STAFFORDSHIRE BULL TERRIER\", \"BULL ARAB\", \"GERMAN SHEPHERD\", \"SIBERIAN HUSKY\", \"BORDER COLLIE\"]\n",
    "\n",
    "df[1] = df[1].apply(labels.index)"
   ],
   "metadata": {
    "collapsed": false
   }
  },
  {
   "cell_type": "code",
   "execution_count": 7,
   "outputs": [
    {
     "data": {
      "text/plain": "                                                   0  1\n0  [[[tensor(0.1451), tensor(0.1922), tensor(0.12...  3\n1  [[[tensor(-0.0353), tensor(-0.0745), tensor(-0...  3\n2  [[[tensor(0.0824), tensor(0.3176), tensor(0.56...  3\n3  [[[tensor(0.3255), tensor(0.2941), tensor(0.32...  3\n4  [[[tensor(-0.7647), tensor(-0.6157), tensor(-0...  3",
      "text/html": "<div>\n<style scoped>\n    .dataframe tbody tr th:only-of-type {\n        vertical-align: middle;\n    }\n\n    .dataframe tbody tr th {\n        vertical-align: top;\n    }\n\n    .dataframe thead th {\n        text-align: right;\n    }\n</style>\n<table border=\"1\" class=\"dataframe\">\n  <thead>\n    <tr style=\"text-align: right;\">\n      <th></th>\n      <th>0</th>\n      <th>1</th>\n    </tr>\n  </thead>\n  <tbody>\n    <tr>\n      <th>0</th>\n      <td>[[[tensor(0.1451), tensor(0.1922), tensor(0.12...</td>\n      <td>3</td>\n    </tr>\n    <tr>\n      <th>1</th>\n      <td>[[[tensor(-0.0353), tensor(-0.0745), tensor(-0...</td>\n      <td>3</td>\n    </tr>\n    <tr>\n      <th>2</th>\n      <td>[[[tensor(0.0824), tensor(0.3176), tensor(0.56...</td>\n      <td>3</td>\n    </tr>\n    <tr>\n      <th>3</th>\n      <td>[[[tensor(0.3255), tensor(0.2941), tensor(0.32...</td>\n      <td>3</td>\n    </tr>\n    <tr>\n      <th>4</th>\n      <td>[[[tensor(-0.7647), tensor(-0.6157), tensor(-0...</td>\n      <td>3</td>\n    </tr>\n  </tbody>\n</table>\n</div>"
     },
     "execution_count": 7,
     "metadata": {},
     "output_type": "execute_result"
    }
   ],
   "source": [
    "df.head()"
   ],
   "metadata": {
    "collapsed": false
   }
  },
  {
   "cell_type": "code",
   "execution_count": 8,
   "id": "d80ed5b9",
   "metadata": {},
   "outputs": [
    {
     "data": {
      "text/plain": "                                                      0  1\n1095  [[[tensor(0.3098), tensor(-0.2784), tensor(-0....  0\n1138  [[[tensor(0.2078), tensor(0.1765), tensor(0.16...  1\n1612  [[[tensor(0.2078), tensor(0.4431), tensor(0.49...  3\n2080  [[[tensor(1.), tensor(1.), tensor(0.9843), ten...  3\n3897  [[[tensor(-0.0745), tensor(-0.0824), tensor(-0...  4\n...                                                 ... ..\n3444  [[[tensor(0.6863), tensor(0.7098), tensor(0.72...  3\n466   [[[tensor(-0.0275), tensor(-0.0039), tensor(-0...  0\n3092  [[[tensor(-0.5137), tensor(-0.5608), tensor(-0...  3\n3772  [[[tensor(0.5686), tensor(0.5922), tensor(0.63...  0\n860   [[[tensor(-0.0353), tensor(0.0902), tensor(0.0...  1\n\n[3112 rows x 2 columns]",
      "text/html": "<div>\n<style scoped>\n    .dataframe tbody tr th:only-of-type {\n        vertical-align: middle;\n    }\n\n    .dataframe tbody tr th {\n        vertical-align: top;\n    }\n\n    .dataframe thead th {\n        text-align: right;\n    }\n</style>\n<table border=\"1\" class=\"dataframe\">\n  <thead>\n    <tr style=\"text-align: right;\">\n      <th></th>\n      <th>0</th>\n      <th>1</th>\n    </tr>\n  </thead>\n  <tbody>\n    <tr>\n      <th>1095</th>\n      <td>[[[tensor(0.3098), tensor(-0.2784), tensor(-0....</td>\n      <td>0</td>\n    </tr>\n    <tr>\n      <th>1138</th>\n      <td>[[[tensor(0.2078), tensor(0.1765), tensor(0.16...</td>\n      <td>1</td>\n    </tr>\n    <tr>\n      <th>1612</th>\n      <td>[[[tensor(0.2078), tensor(0.4431), tensor(0.49...</td>\n      <td>3</td>\n    </tr>\n    <tr>\n      <th>2080</th>\n      <td>[[[tensor(1.), tensor(1.), tensor(0.9843), ten...</td>\n      <td>3</td>\n    </tr>\n    <tr>\n      <th>3897</th>\n      <td>[[[tensor(-0.0745), tensor(-0.0824), tensor(-0...</td>\n      <td>4</td>\n    </tr>\n    <tr>\n      <th>...</th>\n      <td>...</td>\n      <td>...</td>\n    </tr>\n    <tr>\n      <th>3444</th>\n      <td>[[[tensor(0.6863), tensor(0.7098), tensor(0.72...</td>\n      <td>3</td>\n    </tr>\n    <tr>\n      <th>466</th>\n      <td>[[[tensor(-0.0275), tensor(-0.0039), tensor(-0...</td>\n      <td>0</td>\n    </tr>\n    <tr>\n      <th>3092</th>\n      <td>[[[tensor(-0.5137), tensor(-0.5608), tensor(-0...</td>\n      <td>3</td>\n    </tr>\n    <tr>\n      <th>3772</th>\n      <td>[[[tensor(0.5686), tensor(0.5922), tensor(0.63...</td>\n      <td>0</td>\n    </tr>\n    <tr>\n      <th>860</th>\n      <td>[[[tensor(-0.0353), tensor(0.0902), tensor(0.0...</td>\n      <td>1</td>\n    </tr>\n  </tbody>\n</table>\n<p>3112 rows × 2 columns</p>\n</div>"
     },
     "execution_count": 8,
     "metadata": {},
     "output_type": "execute_result"
    }
   ],
   "source": [
    "# train, test split\n",
    "train, test = train_test_split(df, test_size=0.25, random_state=42, shuffle=True)\n",
    "train"
   ]
  },
  {
   "cell_type": "code",
   "execution_count": 9,
   "id": "e5977d97",
   "metadata": {},
   "outputs": [],
   "source": [
    "# #dataloader\n",
    "# train_loader = torch.utils.data.DataLoader(train, batch_size=4, shuffle=True)\n",
    "# test_loader = torch.utils.data.DataLoader(test, batch_size=4, shuffle=True)"
   ]
  },
  {
   "cell_type": "code",
   "execution_count": 25,
   "id": "8eddc38c",
   "metadata": {},
   "outputs": [],
   "source": [
    "#Define model\n",
    "\n",
    "class Net(nn.Module):\n",
    "    def __init__(self):\n",
    "        super().__init__()\n",
    "        self.conv1 = nn.Conv2d(3, 6, 5)\n",
    "        self.pool = nn.MaxPool2d(2, 2)\n",
    "        self.conv2 = nn.Conv2d(6, 16, 5)\n",
    "        self.fc1 = nn.Linear(289, 120)\n",
    "        self.fc2 = nn.Linear(120, 84)\n",
    "        self.fc3 = nn.Linear(84, 10)\n",
    "\n",
    "    def forward(self, x):\n",
    "        x = self.pool(F.relu(self.conv1(x)))\n",
    "        x = self.pool(F.relu(self.conv2(x)))\n",
    "        x = torch.flatten(x, 1)\n",
    "        x = F.relu(self.fc1(x))\n",
    "        x = F.relu(self.fc2(x))\n",
    "        x = self.fc3(x)\n",
    "        return x\n",
    "\n",
    "\n",
    "net = Net()"
   ]
  },
  {
   "cell_type": "code",
   "execution_count": 11,
   "id": "f5d81e7d",
   "metadata": {},
   "outputs": [],
   "source": [
    "criterion = nn.CrossEntropyLoss()\n",
    "optimizer = optim.SGD(net.parameters(), lr=0.001, momentum=0.9)"
   ]
  },
  {
   "cell_type": "code",
   "execution_count": 12,
   "outputs": [],
   "source": [
    "train = train.to_numpy()"
   ],
   "metadata": {
    "collapsed": false
   }
  },
  {
   "cell_type": "code",
   "execution_count": 24,
   "id": "ba1dc85c",
   "metadata": {},
   "outputs": [
    {
     "ename": "IndexError",
     "evalue": "Dimension out of range (expected to be in range of [-3, 2], but got 3)",
     "output_type": "error",
     "traceback": [
      "\u001B[1;31m---------------------------------------------------------------------------\u001B[0m",
      "\u001B[1;31mIndexError\u001B[0m                                Traceback (most recent call last)",
      "Input \u001B[1;32mIn [24]\u001B[0m, in \u001B[0;36m<cell line: 1>\u001B[1;34m()\u001B[0m\n\u001B[0;32m      5\u001B[0m labels \u001B[38;5;241m=\u001B[39m torch\u001B[38;5;241m.\u001B[39mtensor(labels, dtype\u001B[38;5;241m=\u001B[39mtorch\u001B[38;5;241m.\u001B[39mint8)\n\u001B[0;32m      6\u001B[0m optimizer\u001B[38;5;241m.\u001B[39mzero_grad()\n\u001B[1;32m----> 7\u001B[0m outputs \u001B[38;5;241m=\u001B[39m \u001B[43mnet\u001B[49m\u001B[43m(\u001B[49m\u001B[43minputs\u001B[49m\u001B[43m)\u001B[49m\n\u001B[0;32m      8\u001B[0m loss \u001B[38;5;241m=\u001B[39m criterion(outputs, labels)\n\u001B[0;32m      9\u001B[0m loss\u001B[38;5;241m.\u001B[39mbackward()\n",
      "File \u001B[1;32m~\\anaconda3\\lib\\site-packages\\torch\\nn\\modules\\module.py:1190\u001B[0m, in \u001B[0;36mModule._call_impl\u001B[1;34m(self, *input, **kwargs)\u001B[0m\n\u001B[0;32m   1186\u001B[0m \u001B[38;5;66;03m# If we don't have any hooks, we want to skip the rest of the logic in\u001B[39;00m\n\u001B[0;32m   1187\u001B[0m \u001B[38;5;66;03m# this function, and just call forward.\u001B[39;00m\n\u001B[0;32m   1188\u001B[0m \u001B[38;5;28;01mif\u001B[39;00m \u001B[38;5;129;01mnot\u001B[39;00m (\u001B[38;5;28mself\u001B[39m\u001B[38;5;241m.\u001B[39m_backward_hooks \u001B[38;5;129;01mor\u001B[39;00m \u001B[38;5;28mself\u001B[39m\u001B[38;5;241m.\u001B[39m_forward_hooks \u001B[38;5;129;01mor\u001B[39;00m \u001B[38;5;28mself\u001B[39m\u001B[38;5;241m.\u001B[39m_forward_pre_hooks \u001B[38;5;129;01mor\u001B[39;00m _global_backward_hooks\n\u001B[0;32m   1189\u001B[0m         \u001B[38;5;129;01mor\u001B[39;00m _global_forward_hooks \u001B[38;5;129;01mor\u001B[39;00m _global_forward_pre_hooks):\n\u001B[1;32m-> 1190\u001B[0m     \u001B[38;5;28;01mreturn\u001B[39;00m forward_call(\u001B[38;5;241m*\u001B[39m\u001B[38;5;28minput\u001B[39m, \u001B[38;5;241m*\u001B[39m\u001B[38;5;241m*\u001B[39mkwargs)\n\u001B[0;32m   1191\u001B[0m \u001B[38;5;66;03m# Do not call functions when jit is used\u001B[39;00m\n\u001B[0;32m   1192\u001B[0m full_backward_hooks, non_full_backward_hooks \u001B[38;5;241m=\u001B[39m [], []\n",
      "Input \u001B[1;32mIn [23]\u001B[0m, in \u001B[0;36mNet.forward\u001B[1;34m(self, x)\u001B[0m\n\u001B[0;32m     14\u001B[0m x \u001B[38;5;241m=\u001B[39m \u001B[38;5;28mself\u001B[39m\u001B[38;5;241m.\u001B[39mpool(F\u001B[38;5;241m.\u001B[39mrelu(\u001B[38;5;28mself\u001B[39m\u001B[38;5;241m.\u001B[39mconv1(x)))\n\u001B[0;32m     15\u001B[0m x \u001B[38;5;241m=\u001B[39m \u001B[38;5;28mself\u001B[39m\u001B[38;5;241m.\u001B[39mpool(F\u001B[38;5;241m.\u001B[39mrelu(\u001B[38;5;28mself\u001B[39m\u001B[38;5;241m.\u001B[39mconv2(x)))\n\u001B[1;32m---> 16\u001B[0m x \u001B[38;5;241m=\u001B[39m \u001B[43mtorch\u001B[49m\u001B[38;5;241;43m.\u001B[39;49m\u001B[43mflatten\u001B[49m\u001B[43m(\u001B[49m\u001B[43mx\u001B[49m\u001B[43m,\u001B[49m\u001B[43m \u001B[49m\u001B[38;5;241;43m3\u001B[39;49m\u001B[43m)\u001B[49m\n\u001B[0;32m     17\u001B[0m x \u001B[38;5;241m=\u001B[39m F\u001B[38;5;241m.\u001B[39mrelu(\u001B[38;5;28mself\u001B[39m\u001B[38;5;241m.\u001B[39mfc1(x))\n\u001B[0;32m     18\u001B[0m x \u001B[38;5;241m=\u001B[39m F\u001B[38;5;241m.\u001B[39mrelu(\u001B[38;5;28mself\u001B[39m\u001B[38;5;241m.\u001B[39mfc2(x))\n",
      "\u001B[1;31mIndexError\u001B[0m: Dimension out of range (expected to be in range of [-3, 2], but got 3)"
     ]
    }
   ],
   "source": [
    "for epoch in range(2):  # loop over the dataset multiple times\n",
    "\n",
    "    running_loss = 0.0\n",
    "    for inputs, labels in train:\n",
    "        labels = torch.tensor(labels, dtype=torch.int8)\n",
    "        optimizer.zero_grad()\n",
    "        outputs = net(inputs)\n",
    "        loss = criterion(outputs, labels)\n",
    "        loss.backward()\n",
    "        optimizer.step()\n",
    "\n",
    "        running_loss += loss.item()\n",
    "        print(f\"current epoch: {epoch + 1}\")\n",
    "\n",
    "print('Finished Training')"
   ]
  },
  {
   "cell_type": "code",
   "execution_count": null,
   "id": "575a5359",
   "metadata": {},
   "outputs": [],
   "source": [
    "#eval"
   ]
  },
  {
   "cell_type": "code",
   "execution_count": null,
   "id": "d2544b21",
   "metadata": {},
   "outputs": [],
   "source": [
    "#visualize"
   ]
  },
  {
   "cell_type": "code",
   "execution_count": null,
   "id": "4133fe9a",
   "metadata": {},
   "outputs": [],
   "source": [
    "#plot muss noch angepasst werden\n",
    "plt.rcParams[\"savefig.bbox\"] = 'tight'\n",
    "orig_img = df[42]\n",
    "# if you change the seed, make sure that the randomly-applied transforms\n",
    "# properly show that the image can be both transformed and *not* transformed!\n",
    "torch.manual_seed(0)\n",
    "\n",
    "\n",
    "def plot(imgs, with_orig=True, row_title=None, **imshow_kwargs):\n",
    "    if not isinstance(imgs[0], list):\n",
    "        # Make a 2d grid even if there's just 1 row\n",
    "        imgs = [imgs]\n",
    "\n",
    "    num_rows = len(imgs)\n",
    "    num_cols = len(imgs[0]) + with_orig\n",
    "    fig, axs = plt.subplots(nrows=num_rows, ncols=num_cols, squeeze=False)\n",
    "    for row_idx, row in enumerate(imgs):\n",
    "        row = [orig_img] + row if with_orig else row\n",
    "        for col_idx, img in enumerate(row):\n",
    "            ax = axs[row_idx, col_idx]\n",
    "            ax.imshow(np.asarray(img), **imshow_kwargs)\n",
    "            ax.set(xticklabels=[], yticklabels=[], xticks=[], yticks=[])\n",
    "\n",
    "    if with_orig:\n",
    "        axs[0, 0].set(title='Original image')\n",
    "        axs[0, 0].title.set_size(8)\n",
    "    if row_title is not None:\n",
    "        for row_idx in range(num_rows):\n",
    "            axs[row_idx, 0].set(ylabel=row_title[row_idx])\n",
    "\n",
    "    plt.tight_layout()"
   ]
  }
 ],
 "metadata": {
  "kernelspec": {
   "display_name": "Python 3 (ipykernel)",
   "language": "python",
   "name": "python3"
  },
  "language_info": {
   "codemirror_mode": {
    "name": "ipython",
    "version": 3
   },
   "file_extension": ".py",
   "mimetype": "text/x-python",
   "name": "python",
   "nbconvert_exporter": "python",
   "pygments_lexer": "ipython3",
   "version": "3.9.7"
  }
 },
 "nbformat": 4,
 "nbformat_minor": 5
}
